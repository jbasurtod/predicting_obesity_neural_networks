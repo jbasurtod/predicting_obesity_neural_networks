{
 "cells": [
  {
   "cell_type": "markdown",
   "metadata": {},
   "source": [
    "# Obesity Risk Prediction with Neural Networks and Hyperparameter Tuning\n",
    "\n",
    "## Introduction\n",
    "In this Kaggle notebook, I analyze the Estimation of Obesity Levels [dataset](https://archive.ics.uci.edu/dataset/544/estimation+of+obesity+levels+based+on+eating+habits+and+physical+condition) from the UC Irvine Machine Learning Repository dataset. This dataset offers insights into how eating habits and physical conditions correlate with obesity levels, with the goal of building effective predictive models.\n",
    "\n",
    "You can check this model in action in [this Streamlit App](https://obesitypred.streamlit.app/).\n",
    "\n",
    "## Dataset Overview\n",
    "We are using a custom-modified version of the dataset that I uploaded to Kaggle, which includes:\n",
    "\n",
    "- **original_data.csv**: Raw data with random NULL values.\n",
    "- **data_ready.csv**: A cleaned and imputed subset of 1,000 samples for model training and testing. Columns 'gender' and 'Weight' were removed to enhance model performance and avoid collinearity.\n",
    "- **test_later.csv**: Additional data for final model evaluation.\n",
    "\n",
    "## Model Training and Evaluation\n",
    "Two neural network models were trained and tuned. The key results for the best performing neural network are:\n",
    "\n",
    "### On `data_ready.csv`:\n",
    "- **Accuracy**: 0.69\n",
    "\n",
    "|              | precision | recall | f1-score | support |\n",
    "|--------------|-----------|--------|----------|---------|\n",
    "| **0**        | 0.88      | 0.45   | 0.60     | 102     |\n",
    "| **1**        | 0.62      | 0.94   | 0.75     | 98      |\n",
    "| **accuracy** |           |        | 0.69     | 200     |\n",
    "| **macro avg**| 0.75      | 0.69   | 0.67     | 200     |\n",
    "| **weighted avg**| 0.76  | 0.69   | 0.67     | 200     |\n",
    "\n",
    "### On `test_later.csv`:\n",
    "- **Accuracy**: 0.75\n",
    "\n",
    "|              | precision | recall | f1-score | support |\n",
    "|--------------|-----------|--------|----------|---------|\n",
    "| **0**        | 0.93      | 0.56   | 0.70     | 539     |\n",
    "| **1**        | 0.67      | 0.96   | 0.78     | 491     |\n",
    "| **accuracy** |           |        | 0.75     | 1030    |\n",
    "| **macro avg**| 0.80      | 0.76   | 0.74     | 1030    |\n",
    "| **weighted avg**| 0.81  | 0.75   | 0.74     | 1030    |\n",
    "\n",
    "\n",
    "These have been the results for a default threshold of 0.5. However, at its optimal threshold calculated below, a better generalization that balances the classes 0 and 1 is achieved though the recall performance of the class 1 decreases to 0.86.\n",
    "\n",
    "The recall for identifying obesity, our primary objective, shows a strong performance, reflecting the model’s effectiveness in detecting individuals with obesity. This notebook details the model development process, including data preprocessing, feature engineering, and hyperparameter tuning."
   ]
  },
  {
   "cell_type": "markdown",
   "metadata": {},
   "source": [
    "# Importing Libraries and Defining Functions"
   ]
  },
  {
   "cell_type": "code",
   "execution_count": 1,
   "metadata": {
    "_cell_guid": "b1076dfc-b9ad-4769-8c92-a6c4dae69d19",
    "_uuid": "8f2839f25d086af736a60e9eeb907d3b93b6e0e5"
   },
   "outputs": [
    {
     "name": "stderr",
     "output_type": "stream",
     "text": [
      "2024-08-10 21:49:22.651570: I tensorflow/core/util/port.cc:153] oneDNN custom operations are on. You may see slightly different numerical results due to floating-point round-off errors from different computation orders. To turn them off, set the environment variable `TF_ENABLE_ONEDNN_OPTS=0`.\n",
      "2024-08-10 21:49:22.652017: I external/local_xla/xla/tsl/cuda/cudart_stub.cc:32] Could not find cuda drivers on your machine, GPU will not be used.\n",
      "2024-08-10 21:49:22.654275: I external/local_xla/xla/tsl/cuda/cudart_stub.cc:32] Could not find cuda drivers on your machine, GPU will not be used.\n",
      "2024-08-10 21:49:22.661298: E external/local_xla/xla/stream_executor/cuda/cuda_fft.cc:485] Unable to register cuFFT factory: Attempting to register factory for plugin cuFFT when one has already been registered\n",
      "2024-08-10 21:49:22.671564: E external/local_xla/xla/stream_executor/cuda/cuda_dnn.cc:8454] Unable to register cuDNN factory: Attempting to register factory for plugin cuDNN when one has already been registered\n",
      "2024-08-10 21:49:22.674365: E external/local_xla/xla/stream_executor/cuda/cuda_blas.cc:1452] Unable to register cuBLAS factory: Attempting to register factory for plugin cuBLAS when one has already been registered\n",
      "2024-08-10 21:49:22.681777: I tensorflow/core/platform/cpu_feature_guard.cc:210] This TensorFlow binary is optimized to use available CPU instructions in performance-critical operations.\n",
      "To enable the following instructions: AVX2 AVX_VNNI FMA, in other operations, rebuild TensorFlow with the appropriate compiler flags.\n",
      "2024-08-10 21:49:23.193620: W tensorflow/compiler/tf2tensorrt/utils/py_utils.cc:38] TF-TRT Warning: Could not find TensorRT\n"
     ]
    }
   ],
   "source": [
    "import warnings\n",
    "warnings.filterwarnings('ignore')\n",
    "\n",
    "import os\n",
    "import pickle\n",
    "import numpy as np\n",
    "import pandas as pd\n",
    "import seaborn as sns\n",
    "import matplotlib.pyplot as plt\n",
    "from tensorflow.keras.layers import Dense\n",
    "from sklearn.metrics import roc_auc_score\n",
    "from tensorflow.keras.metrics import Recall\n",
    "from tensorflow.keras.optimizers import Adam\n",
    "from tensorflow.keras.metrics import Accuracy\n",
    "from tensorflow.keras.models import Sequential\n",
    "from sklearn.feature_selection import f_classif\n",
    "from keras_tuner import RandomSearch, HyperModel\n",
    "from sklearn.feature_selection import SelectKBest\n",
    "from sklearn.model_selection import train_test_split\n",
    "from keras_tuner.engine.hyperparameters import HyperParameters\n",
    "from sklearn.metrics import classification_report, confusion_matrix,accuracy_score, recall_score"
   ]
  },
  {
   "cell_type": "code",
   "execution_count": 2,
   "metadata": {},
   "outputs": [],
   "source": [
    "def prep_data(datos_input, var_cont, var_categ):\n",
    "    di_cont = []\n",
    "    di_cat = []\n",
    "    if len(var_cont) != 0:\n",
    "        di_cont = pd.DataFrame(datos_input[var_cont], columns = var_cont)\n",
    "    if len(var_categ) != 0:\n",
    "        di_cat = datos_input[var_categ]\n",
    "        di_cat = pd.get_dummies(di_cat, columns = var_categ, drop_first = True, dtype=int)\n",
    "    if len(var_cont) == 0:\n",
    "        data_input = pd.concat([di_cat], axis=1)\n",
    "    elif len(var_categ) == 0:\n",
    "        data_input = pd.concat([di_cont], axis=1)\n",
    "    else:\n",
    "        data_input = pd.concat([di_cont,di_cat], axis=1)\n",
    "    return data_input, di_cont, di_cat\n",
    "def convert_binary_columns_to_str(df: pd.DataFrame) -> pd.DataFrame:\n",
    "    # Iterate through each column in the DataFrame\n",
    "    for column in df.columns:\n",
    "        unique_values = df[column].dropna().unique()\n",
    "        # Check if the column contains exactly two unique values and they are 0 and 1\n",
    "        if len(unique_values) == 2 and set(unique_values) == {0, 1}:\n",
    "            # Convert the column to type str\n",
    "            df[column] = df[column].astype(str)\n",
    "    return df\n",
    "def DataPrep(data, data2):\n",
    "    y = data['NObeyesdad'].astype(int)\n",
    "    del data['NObeyesdad']\n",
    "    y2 = data2['NObeyesdad']\n",
    "    del data2['NObeyesdad']\n",
    "    data = convert_binary_columns_to_str(data)\n",
    "    data2 = convert_binary_columns_to_str(data2)\n",
    "    categ = data.select_dtypes(include=['object', 'category']).columns.tolist()\n",
    "    cont = data.select_dtypes(exclude=['object', 'category']).columns.tolist()\n",
    "    data_inputn, di_contn, di_catn = prep_data(data, cont, categ)\n",
    "    X = data_inputn.copy()\n",
    "    X2 = data2.copy()\n",
    "    inputs, cont, categ = prep_data(X2, cont, categ)\n",
    "    return X, y, inputs, y2\n",
    "def TestModelAccuracy(model,X_test,y_test):\n",
    "    y_pred = model.predict(X_test)\n",
    "    # Convert probabilities to binary class labels\n",
    "    y_pred = (y_pred > 0.5).astype(int).flatten()\n",
    "    \n",
    "    print(\"Accuracy:\", accuracy_score(y_test, y_pred))\n",
    "    print(confusion_matrix(y_test, y_pred))\n",
    "    print(classification_report(y_test, y_pred))\n",
    "def plot_accuracy_recall_vs_threshold(model, X_test, y_test):\n",
    "    \"\"\"\n",
    "    Plot accuracy and recall as a function of different threshold values.\n",
    "\n",
    "    Parameters:\n",
    "    model : trained Keras model\n",
    "        The trained Sequential model.\n",
    "    X_test : numpy array or pandas DataFrame\n",
    "        The test features.\n",
    "    y_test : numpy array or pandas Series\n",
    "        The true labels for the test set.\n",
    "    \"\"\"\n",
    "    # Get the predicted probabilities for the positive class\n",
    "    y_prob = model.predict(X_test).ravel()  # Flatten the array if it's 2D with a single column\n",
    "\n",
    "    # Define a range of threshold values from 0 to 1\n",
    "    thresholds = np.linspace(0, 1, 100)\n",
    "    \n",
    "    # Initialize lists to store metrics\n",
    "    accuracies = []\n",
    "    recalls = []\n",
    "\n",
    "    for threshold in thresholds:\n",
    "        # Apply the threshold to get binary predictions\n",
    "        y_pred = (y_prob >= threshold).astype(int)\n",
    "        \n",
    "        # Calculate accuracy and recall\n",
    "        accuracy = accuracy_score(y_test, y_pred)\n",
    "        recall = recall_score(y_test, y_pred)\n",
    "        \n",
    "        # Append metrics to lists\n",
    "        accuracies.append(accuracy)\n",
    "        recalls.append(recall)\n",
    "\n",
    "    # Plot accuracy and recall vs. threshold\n",
    "    plt.figure(figsize=(10, 6))\n",
    "    plt.plot(thresholds, accuracies, label='Accuracy', color='blue')\n",
    "    plt.plot(thresholds, recalls, label='Recall', color='red')\n",
    "    plt.xlabel('Threshold')\n",
    "    plt.ylabel('Score')\n",
    "    plt.title('Accuracy and Recall vs. Threshold')\n",
    "    plt.legend()\n",
    "    plt.grid(True)\n",
    "    plt.show()\n",
    "    \n",
    "import numpy as np\n",
    "from sklearn.metrics import precision_recall_curve\n",
    "def find_optimal_threshold(model, X_test, y_test, min_precision=0.7):\n",
    "    \"\"\"\n",
    "    Find the optimal threshold for a given model to maximize recall while maintaining a minimum precision.\n",
    "\n",
    "    Parameters:\n",
    "    model : trained Keras model\n",
    "        The trained Sequential model.\n",
    "    X_test : numpy array or pandas DataFrame\n",
    "        The test features.\n",
    "    y_test : numpy array or pandas Series\n",
    "        The true labels for the test set.\n",
    "    min_precision : float\n",
    "        The minimum acceptable precision value.\n",
    "\n",
    "    Returns:\n",
    "    float\n",
    "        The optimal threshold value that maximizes recall while maintaining the minimum precision.\n",
    "    \"\"\"\n",
    "    \n",
    "    # Get the predicted probabilities for the positive class\n",
    "    y_prob = model.predict(X_test).ravel()  # Flatten the array if it's 2D with a single column\n",
    "\n",
    "    # Compute precision-recall curve\n",
    "    precision, recall, thresholds = precision_recall_curve(y_test, y_prob)\n",
    "\n",
    "    # Find the threshold that maximizes recall while keeping precision above min_precision\n",
    "    optimal_threshold = None\n",
    "    max_recall = 0\n",
    "\n",
    "    for i in range(len(precision)):\n",
    "        if precision[i] >= min_precision:\n",
    "            optimal_threshold = thresholds[i] if i < len(thresholds) else 1.0\n",
    "            max_recall = recall[i]\n",
    "            break\n",
    "\n",
    "    print(f\"Optimal Threshold: {optimal_threshold}\")\n",
    "    print(f\"Precision at Optimal Threshold: {precision[i]}\")\n",
    "    print(f\"Max Recall at Optimal Threshold: {max_recall}\")\n",
    "\n",
    "    return optimal_threshold\n",
    "def TestModel_Threshold(model, x, y, umbral):\n",
    "    \"\"\"\n",
    "    Evaluate the model with a custom threshold and print the classification report.\n",
    "\n",
    "    Parameters:\n",
    "    model : trained Keras model\n",
    "        The trained Sequential model.\n",
    "    x : numpy array or pandas DataFrame\n",
    "        The test features.\n",
    "    y : numpy array or pandas Series\n",
    "        The true labels for the test set.\n",
    "    umbral : float\n",
    "        The custom threshold to apply.\n",
    "    \"\"\"\n",
    "    # Make predictions (probabilities)\n",
    "    probabilities = model.predict(x).ravel()  # Flatten the array if it's 2D with a single column\n",
    "    \n",
    "    # Define a custom threshold\n",
    "    custom_threshold = umbral\n",
    "    \n",
    "    # Apply the custom threshold\n",
    "    predictions = (probabilities >= custom_threshold).astype(int)\n",
    "    print(\"Accuracy:\", accuracy_score(y, predictions))\n",
    "    # Print classification report\n",
    "    print(classification_report(y, predictions))"
   ]
  },
  {
   "cell_type": "markdown",
   "metadata": {},
   "source": [
    "# Data Prep\n",
    "As mentioned above, I am using a modified version of the Estimation of Obesity Levels Based On Eating Habits and Physical Condition from UC Irvine. I will upload a notebook with the respective EDA in the future :)"
   ]
  },
  {
   "cell_type": "code",
   "execution_count": 3,
   "metadata": {},
   "outputs": [],
   "source": [
    "seed = 7679"
   ]
  },
  {
   "cell_type": "code",
   "execution_count": 4,
   "metadata": {},
   "outputs": [
    {
     "data": {
      "text/html": [
       "<div>\n",
       "<style scoped>\n",
       "    .dataframe tbody tr th:only-of-type {\n",
       "        vertical-align: middle;\n",
       "    }\n",
       "\n",
       "    .dataframe tbody tr th {\n",
       "        vertical-align: top;\n",
       "    }\n",
       "\n",
       "    .dataframe thead th {\n",
       "        text-align: right;\n",
       "    }\n",
       "</style>\n",
       "<table border=\"1\" class=\"dataframe\">\n",
       "  <thead>\n",
       "    <tr style=\"text-align: right;\">\n",
       "      <th></th>\n",
       "      <th>Age</th>\n",
       "      <th>Height</th>\n",
       "      <th>FCVC</th>\n",
       "      <th>NCP</th>\n",
       "      <th>CH2O</th>\n",
       "      <th>FAF</th>\n",
       "      <th>TUE</th>\n",
       "      <th>family_history_with_overweight</th>\n",
       "      <th>FAVC</th>\n",
       "      <th>CAEC</th>\n",
       "      <th>SMOKE</th>\n",
       "      <th>SCC</th>\n",
       "      <th>CALC</th>\n",
       "      <th>MTRANS</th>\n",
       "      <th>NObeyesdad</th>\n",
       "    </tr>\n",
       "  </thead>\n",
       "  <tbody>\n",
       "    <tr>\n",
       "      <th>0</th>\n",
       "      <td>20.738469</td>\n",
       "      <td>1.759933</td>\n",
       "      <td>2.627031</td>\n",
       "      <td>3.832911</td>\n",
       "      <td>2.993448</td>\n",
       "      <td>2.000000</td>\n",
       "      <td>1.425903</td>\n",
       "      <td>1</td>\n",
       "      <td>1</td>\n",
       "      <td>Sometimes</td>\n",
       "      <td>0</td>\n",
       "      <td>0</td>\n",
       "      <td>no</td>\n",
       "      <td>Public_Transport_Walking</td>\n",
       "      <td>0.0</td>\n",
       "    </tr>\n",
       "    <tr>\n",
       "      <th>1</th>\n",
       "      <td>29.721964</td>\n",
       "      <td>1.918859</td>\n",
       "      <td>2.041376</td>\n",
       "      <td>3.000000</td>\n",
       "      <td>1.120213</td>\n",
       "      <td>1.055450</td>\n",
       "      <td>0.000000</td>\n",
       "      <td>1</td>\n",
       "      <td>1</td>\n",
       "      <td>Sometimes</td>\n",
       "      <td>0</td>\n",
       "      <td>0</td>\n",
       "      <td>Sometimes_Frequently_Always</td>\n",
       "      <td>Public_Transport_Walking</td>\n",
       "      <td>1.0</td>\n",
       "    </tr>\n",
       "    <tr>\n",
       "      <th>2</th>\n",
       "      <td>24.825393</td>\n",
       "      <td>1.603501</td>\n",
       "      <td>2.996186</td>\n",
       "      <td>1.134042</td>\n",
       "      <td>1.270166</td>\n",
       "      <td>0.073065</td>\n",
       "      <td>1.551934</td>\n",
       "      <td>1</td>\n",
       "      <td>1</td>\n",
       "      <td>Sometimes</td>\n",
       "      <td>0</td>\n",
       "      <td>0</td>\n",
       "      <td>no</td>\n",
       "      <td>Public_Transport_Walking</td>\n",
       "      <td>1.0</td>\n",
       "    </tr>\n",
       "    <tr>\n",
       "      <th>3</th>\n",
       "      <td>20.811580</td>\n",
       "      <td>1.741193</td>\n",
       "      <td>3.000000</td>\n",
       "      <td>3.000000</td>\n",
       "      <td>1.768111</td>\n",
       "      <td>0.616503</td>\n",
       "      <td>0.968151</td>\n",
       "      <td>1</td>\n",
       "      <td>1</td>\n",
       "      <td>Sometimes</td>\n",
       "      <td>0</td>\n",
       "      <td>0</td>\n",
       "      <td>Sometimes_Frequently_Always</td>\n",
       "      <td>Public_Transport_Walking</td>\n",
       "      <td>1.0</td>\n",
       "    </tr>\n",
       "    <tr>\n",
       "      <th>4</th>\n",
       "      <td>18.000000</td>\n",
       "      <td>1.770000</td>\n",
       "      <td>3.000000</td>\n",
       "      <td>3.000000</td>\n",
       "      <td>2.000000</td>\n",
       "      <td>1.000000</td>\n",
       "      <td>1.000000</td>\n",
       "      <td>1</td>\n",
       "      <td>1</td>\n",
       "      <td>Sometimes</td>\n",
       "      <td>0</td>\n",
       "      <td>0</td>\n",
       "      <td>Sometimes_Frequently_Always</td>\n",
       "      <td>Public_Transport_Walking</td>\n",
       "      <td>0.0</td>\n",
       "    </tr>\n",
       "  </tbody>\n",
       "</table>\n",
       "</div>"
      ],
      "text/plain": [
       "         Age    Height      FCVC       NCP      CH2O       FAF       TUE  \\\n",
       "0  20.738469  1.759933  2.627031  3.832911  2.993448  2.000000  1.425903   \n",
       "1  29.721964  1.918859  2.041376  3.000000  1.120213  1.055450  0.000000   \n",
       "2  24.825393  1.603501  2.996186  1.134042  1.270166  0.073065  1.551934   \n",
       "3  20.811580  1.741193  3.000000  3.000000  1.768111  0.616503  0.968151   \n",
       "4  18.000000  1.770000  3.000000  3.000000  2.000000  1.000000  1.000000   \n",
       "\n",
       "   family_history_with_overweight  FAVC       CAEC  SMOKE  SCC  \\\n",
       "0                               1     1  Sometimes      0    0   \n",
       "1                               1     1  Sometimes      0    0   \n",
       "2                               1     1  Sometimes      0    0   \n",
       "3                               1     1  Sometimes      0    0   \n",
       "4                               1     1  Sometimes      0    0   \n",
       "\n",
       "                          CALC                    MTRANS  NObeyesdad  \n",
       "0                           no  Public_Transport_Walking         0.0  \n",
       "1  Sometimes_Frequently_Always  Public_Transport_Walking         1.0  \n",
       "2                           no  Public_Transport_Walking         1.0  \n",
       "3  Sometimes_Frequently_Always  Public_Transport_Walking         1.0  \n",
       "4  Sometimes_Frequently_Always  Public_Transport_Walking         0.0  "
      ]
     },
     "execution_count": 4,
     "metadata": {},
     "output_type": "execute_result"
    }
   ],
   "source": [
    "data = pd.read_csv('data/data_ready.csv')\n",
    "data2 = pd.read_csv('data/test_later.csv')\n",
    "data.head()"
   ]
  },
  {
   "cell_type": "code",
   "execution_count": 5,
   "metadata": {},
   "outputs": [],
   "source": [
    "X, y, inputs, y2 = DataPrep(data, data2)"
   ]
  },
  {
   "cell_type": "code",
   "execution_count": 6,
   "metadata": {},
   "outputs": [],
   "source": [
    "selector = SelectKBest(score_func=f_classif, k=5)\n",
    "\n",
    "X_new = selector.fit_transform(X, y)\n",
    "\n",
    "selected_features = X.columns[selector.get_support()]\n",
    "inputs = inputs[selected_features]"
   ]
  },
  {
   "cell_type": "code",
   "execution_count": 7,
   "metadata": {},
   "outputs": [
    {
     "data": {
      "text/plain": [
       "Index(['Age', 'family_history_with_overweight_1', 'FAVC_1', 'CAEC_Sometimes',\n",
       "       'SCC_1'],\n",
       "      dtype='object')"
      ]
     },
     "execution_count": 7,
     "metadata": {},
     "output_type": "execute_result"
    }
   ],
   "source": [
    "selected_features"
   ]
  },
  {
   "cell_type": "code",
   "execution_count": 8,
   "metadata": {},
   "outputs": [],
   "source": [
    "X_train, X_test, y_train, y_test = train_test_split(X_new, y, test_size=0.2, random_state=seed)"
   ]
  },
  {
   "cell_type": "markdown",
   "metadata": {},
   "source": [
    "# Traininig the Neural Network\n",
    "Let's train the first Neural Network with only 1 hidden layer:"
   ]
  },
  {
   "cell_type": "code",
   "execution_count": 9,
   "metadata": {},
   "outputs": [],
   "source": [
    "def FirstNN(X_train, y_train):\n",
    "    # Red Neuronal con una sola capa oculta\n",
    "    model = Sequential()\n",
    "    model.add(Dense(64, input_dim=X_train.shape[1], activation='relu'))  # Hidden layer with 64 neurons\n",
    "    model.add(Dense(1, activation='sigmoid'))  # Output layer for binary classification\n",
    "    \n",
    "    # Compile the model with AUC as a metric\n",
    "    model.compile(optimizer=Adam(learning_rate=0.001), \n",
    "                  loss='binary_crossentropy', \n",
    "                  metrics=[Recall()])\n",
    "    \n",
    "    # Fit the model\n",
    "    model.fit(X_train, y_train, epochs=100, batch_size=32, validation_split=0.2, verbose=1)\n",
    "    \n",
    "    return model"
   ]
  },
  {
   "cell_type": "code",
   "execution_count": 10,
   "metadata": {},
   "outputs": [
    {
     "name": "stdout",
     "output_type": "stream",
     "text": [
      "Epoch 1/100\n"
     ]
    },
    {
     "name": "stderr",
     "output_type": "stream",
     "text": [
      "WARNING: All log messages before absl::InitializeLog() is called are written to STDERR\n",
      "I0000 00:00:1723319363.672526   20023 cuda_executor.cc:1015] successful NUMA node read from SysFS had negative value (-1), but there must be at least one NUMA node, so returning NUMA node zero. See more at https://github.com/torvalds/linux/blob/v6.0/Documentation/ABI/testing/sysfs-bus-pci#L344-L355\n",
      "2024-08-10 21:49:23.672804: W tensorflow/core/common_runtime/gpu/gpu_device.cc:2343] Cannot dlopen some GPU libraries. Please make sure the missing libraries mentioned above are installed properly if you would like to use GPU. Follow the guide at https://www.tensorflow.org/install/gpu for how to download and setup the required libraries for your platform.\n",
      "Skipping registering GPU devices...\n"
     ]
    },
    {
     "name": "stdout",
     "output_type": "stream",
     "text": [
      "\u001b[1m20/20\u001b[0m \u001b[32m━━━━━━━━━━━━━━━━━━━━\u001b[0m\u001b[37m\u001b[0m \u001b[1m1s\u001b[0m 10ms/step - loss: 0.9417 - recall: 0.7726 - val_loss: 0.6833 - val_recall: 0.0000e+00\n",
      "Epoch 2/100\n",
      "\u001b[1m20/20\u001b[0m \u001b[32m━━━━━━━━━━━━━━━━━━━━\u001b[0m\u001b[37m\u001b[0m \u001b[1m0s\u001b[0m 1ms/step - loss: 0.7054 - recall: 0.2175 - val_loss: 0.6840 - val_recall: 0.1311\n",
      "Epoch 3/100\n",
      "\u001b[1m20/20\u001b[0m \u001b[32m━━━━━━━━━━━━━━━━━━━━\u001b[0m\u001b[37m\u001b[0m \u001b[1m0s\u001b[0m 1ms/step - loss: 0.6861 - recall: 0.0561 - val_loss: 0.6859 - val_recall: 0.9836\n",
      "Epoch 4/100\n",
      "\u001b[1m20/20\u001b[0m \u001b[32m━━━━━━━━━━━━━━━━━━━━\u001b[0m\u001b[37m\u001b[0m \u001b[1m0s\u001b[0m 1ms/step - loss: 0.6871 - recall: 0.6389 - val_loss: 0.6802 - val_recall: 0.9836\n",
      "Epoch 5/100\n",
      "\u001b[1m20/20\u001b[0m \u001b[32m━━━━━━━━━━━━━━━━━━━━\u001b[0m\u001b[37m\u001b[0m \u001b[1m0s\u001b[0m 1ms/step - loss: 0.6747 - recall: 0.6061 - val_loss: 0.6626 - val_recall: 0.0000e+00\n",
      "Epoch 6/100\n",
      "\u001b[1m20/20\u001b[0m \u001b[32m━━━━━━━━━━━━━━━━━━━━\u001b[0m\u001b[37m\u001b[0m \u001b[1m0s\u001b[0m 1ms/step - loss: 0.6687 - recall: 0.3174 - val_loss: 0.6585 - val_recall: 0.0984\n",
      "Epoch 7/100\n",
      "\u001b[1m20/20\u001b[0m \u001b[32m━━━━━━━━━━━━━━━━━━━━\u001b[0m\u001b[37m\u001b[0m \u001b[1m0s\u001b[0m 1ms/step - loss: 0.6618 - recall: 0.2687 - val_loss: 0.6536 - val_recall: 0.1311\n",
      "Epoch 8/100\n",
      "\u001b[1m20/20\u001b[0m \u001b[32m━━━━━━━━━━━━━━━━━━━━\u001b[0m\u001b[37m\u001b[0m \u001b[1m0s\u001b[0m 1ms/step - loss: 0.6549 - recall: 0.4104 - val_loss: 0.6468 - val_recall: 0.0000e+00\n",
      "Epoch 9/100\n",
      "\u001b[1m20/20\u001b[0m \u001b[32m━━━━━━━━━━━━━━━━━━━━\u001b[0m\u001b[37m\u001b[0m \u001b[1m0s\u001b[0m 1ms/step - loss: 0.6499 - recall: 0.2325 - val_loss: 0.6511 - val_recall: 0.7377\n",
      "Epoch 10/100\n",
      "\u001b[1m20/20\u001b[0m \u001b[32m━━━━━━━━━━━━━━━━━━━━\u001b[0m\u001b[37m\u001b[0m \u001b[1m0s\u001b[0m 1ms/step - loss: 0.6403 - recall: 0.8926 - val_loss: 0.6390 - val_recall: 0.0492\n",
      "Epoch 11/100\n",
      "\u001b[1m20/20\u001b[0m \u001b[32m━━━━━━━━━━━━━━━━━━━━\u001b[0m\u001b[37m\u001b[0m \u001b[1m0s\u001b[0m 1ms/step - loss: 0.6420 - recall: 0.2186 - val_loss: 0.6465 - val_recall: 0.8689\n",
      "Epoch 12/100\n",
      "\u001b[1m20/20\u001b[0m \u001b[32m━━━━━━━━━━━━━━━━━━━━\u001b[0m\u001b[37m\u001b[0m \u001b[1m0s\u001b[0m 1ms/step - loss: 0.6277 - recall: 0.6389 - val_loss: 0.6459 - val_recall: 0.8689\n",
      "Epoch 13/100\n",
      "\u001b[1m20/20\u001b[0m \u001b[32m━━━━━━━━━━━━━━━━━━━━\u001b[0m\u001b[37m\u001b[0m \u001b[1m0s\u001b[0m 1ms/step - loss: 0.6274 - recall: 0.8939 - val_loss: 0.6323 - val_recall: 0.7213\n",
      "Epoch 14/100\n",
      "\u001b[1m20/20\u001b[0m \u001b[32m━━━━━━━━━━━━━━━━━━━━\u001b[0m\u001b[37m\u001b[0m \u001b[1m0s\u001b[0m 1ms/step - loss: 0.6181 - recall: 0.7627 - val_loss: 0.6291 - val_recall: 0.7869\n",
      "Epoch 15/100\n",
      "\u001b[1m20/20\u001b[0m \u001b[32m━━━━━━━━━━━━━━━━━━━━\u001b[0m\u001b[37m\u001b[0m \u001b[1m0s\u001b[0m 1ms/step - loss: 0.6070 - recall: 0.8588 - val_loss: 0.6233 - val_recall: 0.7377\n",
      "Epoch 16/100\n",
      "\u001b[1m20/20\u001b[0m \u001b[32m━━━━━━━━━━━━━━━━━━━━\u001b[0m\u001b[37m\u001b[0m \u001b[1m0s\u001b[0m 1ms/step - loss: 0.5958 - recall: 0.7520 - val_loss: 0.6393 - val_recall: 0.9672\n",
      "Epoch 17/100\n",
      "\u001b[1m20/20\u001b[0m \u001b[32m━━━━━━━━━━━━━━━━━━━━\u001b[0m\u001b[37m\u001b[0m \u001b[1m0s\u001b[0m 1ms/step - loss: 0.6048 - recall: 0.8079 - val_loss: 0.6217 - val_recall: 0.8689\n",
      "Epoch 18/100\n",
      "\u001b[1m20/20\u001b[0m \u001b[32m━━━━━━━━━━━━━━━━━━━━\u001b[0m\u001b[37m\u001b[0m \u001b[1m0s\u001b[0m 1ms/step - loss: 0.5977 - recall: 0.9023 - val_loss: 0.6102 - val_recall: 0.6230\n",
      "Epoch 19/100\n",
      "\u001b[1m20/20\u001b[0m \u001b[32m━━━━━━━━━━━━━━━━━━━━\u001b[0m\u001b[37m\u001b[0m \u001b[1m0s\u001b[0m 1ms/step - loss: 0.5890 - recall: 0.8076 - val_loss: 0.6129 - val_recall: 0.8689\n",
      "Epoch 20/100\n",
      "\u001b[1m20/20\u001b[0m \u001b[32m━━━━━━━━━━━━━━━━━━━━\u001b[0m\u001b[37m\u001b[0m \u001b[1m0s\u001b[0m 1ms/step - loss: 0.5913 - recall: 0.8620 - val_loss: 0.6031 - val_recall: 0.7213\n",
      "Epoch 21/100\n",
      "\u001b[1m20/20\u001b[0m \u001b[32m━━━━━━━━━━━━━━━━━━━━\u001b[0m\u001b[37m\u001b[0m \u001b[1m0s\u001b[0m 1ms/step - loss: 0.5873 - recall: 0.7759 - val_loss: 0.6029 - val_recall: 0.7705\n",
      "Epoch 22/100\n",
      "\u001b[1m20/20\u001b[0m \u001b[32m━━━━━━━━━━━━━━━━━━━━\u001b[0m\u001b[37m\u001b[0m \u001b[1m0s\u001b[0m 1ms/step - loss: 0.5863 - recall: 0.8306 - val_loss: 0.6041 - val_recall: 0.8689\n",
      "Epoch 23/100\n",
      "\u001b[1m20/20\u001b[0m \u001b[32m━━━━━━━━━━━━━━━━━━━━\u001b[0m\u001b[37m\u001b[0m \u001b[1m0s\u001b[0m 1ms/step - loss: 0.5739 - recall: 0.8723 - val_loss: 0.6037 - val_recall: 0.8689\n",
      "Epoch 24/100\n",
      "\u001b[1m20/20\u001b[0m \u001b[32m━━━━━━━━━━━━━━━━━━━━\u001b[0m\u001b[37m\u001b[0m \u001b[1m0s\u001b[0m 1ms/step - loss: 0.5873 - recall: 0.8515 - val_loss: 0.6071 - val_recall: 0.9016\n",
      "Epoch 25/100\n",
      "\u001b[1m20/20\u001b[0m \u001b[32m━━━━━━━━━━━━━━━━━━━━\u001b[0m\u001b[37m\u001b[0m \u001b[1m0s\u001b[0m 1ms/step - loss: 0.5587 - recall: 0.8967 - val_loss: 0.5892 - val_recall: 0.8197\n",
      "Epoch 26/100\n",
      "\u001b[1m20/20\u001b[0m \u001b[32m━━━━━━━━━━━━━━━━━━━━\u001b[0m\u001b[37m\u001b[0m \u001b[1m0s\u001b[0m 1ms/step - loss: 0.5618 - recall: 0.8623 - val_loss: 0.5948 - val_recall: 0.8689\n",
      "Epoch 27/100\n",
      "\u001b[1m20/20\u001b[0m \u001b[32m━━━━━━━━━━━━━━━━━━━━\u001b[0m\u001b[37m\u001b[0m \u001b[1m0s\u001b[0m 1ms/step - loss: 0.5847 - recall: 0.8476 - val_loss: 0.6078 - val_recall: 0.9672\n",
      "Epoch 28/100\n",
      "\u001b[1m20/20\u001b[0m \u001b[32m━━━━━━━━━━━━━━━━━━━━\u001b[0m\u001b[37m\u001b[0m \u001b[1m0s\u001b[0m 1ms/step - loss: 0.5640 - recall: 0.9189 - val_loss: 0.5889 - val_recall: 0.8689\n",
      "Epoch 29/100\n",
      "\u001b[1m20/20\u001b[0m \u001b[32m━━━━━━━━━━━━━━━━━━━━\u001b[0m\u001b[37m\u001b[0m \u001b[1m0s\u001b[0m 1ms/step - loss: 0.5629 - recall: 0.8732 - val_loss: 0.5782 - val_recall: 0.5082\n",
      "Epoch 30/100\n",
      "\u001b[1m20/20\u001b[0m \u001b[32m━━━━━━━━━━━━━━━━━━━━\u001b[0m\u001b[37m\u001b[0m \u001b[1m0s\u001b[0m 1ms/step - loss: 0.5782 - recall: 0.7209 - val_loss: 0.5730 - val_recall: 0.7213\n",
      "Epoch 31/100\n",
      "\u001b[1m20/20\u001b[0m \u001b[32m━━━━━━━━━━━━━━━━━━━━\u001b[0m\u001b[37m\u001b[0m \u001b[1m0s\u001b[0m 1ms/step - loss: 0.5736 - recall: 0.7720 - val_loss: 0.5723 - val_recall: 0.7377\n",
      "Epoch 32/100\n",
      "\u001b[1m20/20\u001b[0m \u001b[32m━━━━━━━━━━━━━━━━━━━━\u001b[0m\u001b[37m\u001b[0m \u001b[1m0s\u001b[0m 1ms/step - loss: 0.5684 - recall: 0.6989 - val_loss: 0.5964 - val_recall: 0.9672\n",
      "Epoch 33/100\n",
      "\u001b[1m20/20\u001b[0m \u001b[32m━━━━━━━━━━━━━━━━━━━━\u001b[0m\u001b[37m\u001b[0m \u001b[1m0s\u001b[0m 1ms/step - loss: 0.5480 - recall: 0.9224 - val_loss: 0.5700 - val_recall: 0.8689\n",
      "Epoch 34/100\n",
      "\u001b[1m20/20\u001b[0m \u001b[32m━━━━━━━━━━━━━━━━━━━━\u001b[0m\u001b[37m\u001b[0m \u001b[1m0s\u001b[0m 1ms/step - loss: 0.5425 - recall: 0.9098 - val_loss: 0.5641 - val_recall: 0.7213\n",
      "Epoch 35/100\n",
      "\u001b[1m20/20\u001b[0m \u001b[32m━━━━━━━━━━━━━━━━━━━━\u001b[0m\u001b[37m\u001b[0m \u001b[1m0s\u001b[0m 1ms/step - loss: 0.5435 - recall: 0.8054 - val_loss: 0.5832 - val_recall: 0.9672\n",
      "Epoch 36/100\n",
      "\u001b[1m20/20\u001b[0m \u001b[32m━━━━━━━━━━━━━━━━━━━━\u001b[0m\u001b[37m\u001b[0m \u001b[1m0s\u001b[0m 1ms/step - loss: 0.5436 - recall: 0.8830 - val_loss: 0.5610 - val_recall: 0.8689\n",
      "Epoch 37/100\n",
      "\u001b[1m20/20\u001b[0m \u001b[32m━━━━━━━━━━━━━━━━━━━━\u001b[0m\u001b[37m\u001b[0m \u001b[1m0s\u001b[0m 1ms/step - loss: 0.5240 - recall: 0.8860 - val_loss: 0.5644 - val_recall: 0.8689\n",
      "Epoch 38/100\n",
      "\u001b[1m20/20\u001b[0m \u001b[32m━━━━━━━━━━━━━━━━━━━━\u001b[0m\u001b[37m\u001b[0m \u001b[1m0s\u001b[0m 993us/step - loss: 0.5574 - recall: 0.8760 - val_loss: 0.5633 - val_recall: 0.8689\n",
      "Epoch 39/100\n",
      "\u001b[1m20/20\u001b[0m \u001b[32m━━━━━━━━━━━━━━━━━━━━\u001b[0m\u001b[37m\u001b[0m \u001b[1m0s\u001b[0m 1ms/step - loss: 0.5311 - recall: 0.8876 - val_loss: 0.5764 - val_recall: 0.9672\n",
      "Epoch 40/100\n",
      "\u001b[1m20/20\u001b[0m \u001b[32m━━━━━━━━━━━━━━━━━━━━\u001b[0m\u001b[37m\u001b[0m \u001b[1m0s\u001b[0m 997us/step - loss: 0.5263 - recall: 0.9425 - val_loss: 0.5670 - val_recall: 0.9508\n",
      "Epoch 41/100\n",
      "\u001b[1m20/20\u001b[0m \u001b[32m━━━━━━━━━━━━━━━━━━━━\u001b[0m\u001b[37m\u001b[0m \u001b[1m0s\u001b[0m 1ms/step - loss: 0.5377 - recall: 0.9596 - val_loss: 0.5472 - val_recall: 0.8361\n",
      "Epoch 42/100\n",
      "\u001b[1m20/20\u001b[0m \u001b[32m━━━━━━━━━━━━━━━━━━━━\u001b[0m\u001b[37m\u001b[0m \u001b[1m0s\u001b[0m 1ms/step - loss: 0.5131 - recall: 0.9042 - val_loss: 0.5544 - val_recall: 0.9016\n",
      "Epoch 43/100\n",
      "\u001b[1m20/20\u001b[0m \u001b[32m━━━━━━━━━━━━━━━━━━━━\u001b[0m\u001b[37m\u001b[0m \u001b[1m0s\u001b[0m 1ms/step - loss: 0.5272 - recall: 0.9055 - val_loss: 0.5452 - val_recall: 0.8689\n",
      "Epoch 44/100\n",
      "\u001b[1m20/20\u001b[0m \u001b[32m━━━━━━━━━━━━━━━━━━━━\u001b[0m\u001b[37m\u001b[0m \u001b[1m0s\u001b[0m 1ms/step - loss: 0.5318 - recall: 0.8689 - val_loss: 0.5582 - val_recall: 0.9672\n",
      "Epoch 45/100\n",
      "\u001b[1m20/20\u001b[0m \u001b[32m━━━━━━━━━━━━━━━━━━━━\u001b[0m\u001b[37m\u001b[0m \u001b[1m0s\u001b[0m 1ms/step - loss: 0.5231 - recall: 0.9430 - val_loss: 0.5510 - val_recall: 0.9016\n",
      "Epoch 46/100\n",
      "\u001b[1m20/20\u001b[0m \u001b[32m━━━━━━━━━━━━━━━━━━━━\u001b[0m\u001b[37m\u001b[0m \u001b[1m0s\u001b[0m 1ms/step - loss: 0.5121 - recall: 0.9578 - val_loss: 0.5425 - val_recall: 0.7213\n",
      "Epoch 47/100\n",
      "\u001b[1m20/20\u001b[0m \u001b[32m━━━━━━━━━━━━━━━━━━━━\u001b[0m\u001b[37m\u001b[0m \u001b[1m0s\u001b[0m 1ms/step - loss: 0.5282 - recall: 0.7960 - val_loss: 0.5428 - val_recall: 0.9016\n",
      "Epoch 48/100\n",
      "\u001b[1m20/20\u001b[0m \u001b[32m━━━━━━━━━━━━━━━━━━━━\u001b[0m\u001b[37m\u001b[0m \u001b[1m0s\u001b[0m 1ms/step - loss: 0.5214 - recall: 0.9349 - val_loss: 0.5369 - val_recall: 0.7377\n",
      "Epoch 49/100\n",
      "\u001b[1m20/20\u001b[0m \u001b[32m━━━━━━━━━━━━━━━━━━━━\u001b[0m\u001b[37m\u001b[0m \u001b[1m0s\u001b[0m 1ms/step - loss: 0.5242 - recall: 0.8195 - val_loss: 0.5348 - val_recall: 0.8689\n",
      "Epoch 50/100\n",
      "\u001b[1m20/20\u001b[0m \u001b[32m━━━━━━━━━━━━━━━━━━━━\u001b[0m\u001b[37m\u001b[0m \u001b[1m0s\u001b[0m 1ms/step - loss: 0.5001 - recall: 0.9156 - val_loss: 0.5351 - val_recall: 0.7213\n",
      "Epoch 51/100\n",
      "\u001b[1m20/20\u001b[0m \u001b[32m━━━━━━━━━━━━━━━━━━━━\u001b[0m\u001b[37m\u001b[0m \u001b[1m0s\u001b[0m 1ms/step - loss: 0.5195 - recall: 0.8316 - val_loss: 0.5362 - val_recall: 0.9016\n",
      "Epoch 52/100\n",
      "\u001b[1m20/20\u001b[0m \u001b[32m━━━━━━━━━━━━━━━━━━━━\u001b[0m\u001b[37m\u001b[0m \u001b[1m0s\u001b[0m 982us/step - loss: 0.4968 - recall: 0.9464 - val_loss: 0.5328 - val_recall: 0.9016\n",
      "Epoch 53/100\n",
      "\u001b[1m20/20\u001b[0m \u001b[32m━━━━━━━━━━━━━━━━━━━━\u001b[0m\u001b[37m\u001b[0m \u001b[1m0s\u001b[0m 1ms/step - loss: 0.5076 - recall: 0.9485 - val_loss: 0.5317 - val_recall: 0.9016\n",
      "Epoch 54/100\n",
      "\u001b[1m20/20\u001b[0m \u001b[32m━━━━━━━━━━━━━━━━━━━━\u001b[0m\u001b[37m\u001b[0m \u001b[1m0s\u001b[0m 1ms/step - loss: 0.5032 - recall: 0.9368 - val_loss: 0.5300 - val_recall: 0.9016\n",
      "Epoch 55/100\n",
      "\u001b[1m20/20\u001b[0m \u001b[32m━━━━━━━━━━━━━━━━━━━━\u001b[0m\u001b[37m\u001b[0m \u001b[1m0s\u001b[0m 1ms/step - loss: 0.4945 - recall: 0.9418 - val_loss: 0.5334 - val_recall: 0.9672\n",
      "Epoch 56/100\n",
      "\u001b[1m20/20\u001b[0m \u001b[32m━━━━━━━━━━━━━━━━━━━━\u001b[0m\u001b[37m\u001b[0m \u001b[1m0s\u001b[0m 1ms/step - loss: 0.5151 - recall: 0.9507 - val_loss: 0.5253 - val_recall: 0.8689\n",
      "Epoch 57/100\n",
      "\u001b[1m20/20\u001b[0m \u001b[32m━━━━━━━━━━━━━━━━━━━━\u001b[0m\u001b[37m\u001b[0m \u001b[1m0s\u001b[0m 979us/step - loss: 0.5159 - recall: 0.8690 - val_loss: 0.5205 - val_recall: 0.8689\n",
      "Epoch 58/100\n",
      "\u001b[1m20/20\u001b[0m \u001b[32m━━━━━━━━━━━━━━━━━━━━\u001b[0m\u001b[37m\u001b[0m \u001b[1m0s\u001b[0m 1ms/step - loss: 0.5194 - recall: 0.8757 - val_loss: 0.5218 - val_recall: 0.8689\n",
      "Epoch 59/100\n",
      "\u001b[1m20/20\u001b[0m \u001b[32m━━━━━━━━━━━━━━━━━━━━\u001b[0m\u001b[37m\u001b[0m \u001b[1m0s\u001b[0m 1ms/step - loss: 0.5080 - recall: 0.8914 - val_loss: 0.5407 - val_recall: 0.9672\n",
      "Epoch 60/100\n",
      "\u001b[1m20/20\u001b[0m \u001b[32m━━━━━━━━━━━━━━━━━━━━\u001b[0m\u001b[37m\u001b[0m \u001b[1m0s\u001b[0m 1ms/step - loss: 0.4999 - recall: 0.9468 - val_loss: 0.5243 - val_recall: 0.9508\n",
      "Epoch 61/100\n",
      "\u001b[1m20/20\u001b[0m \u001b[32m━━━━━━━━━━━━━━━━━━━━\u001b[0m\u001b[37m\u001b[0m \u001b[1m0s\u001b[0m 1ms/step - loss: 0.4933 - recall: 0.9579 - val_loss: 0.5192 - val_recall: 0.9672\n",
      "Epoch 62/100\n",
      "\u001b[1m20/20\u001b[0m \u001b[32m━━━━━━━━━━━━━━━━━━━━\u001b[0m\u001b[37m\u001b[0m \u001b[1m0s\u001b[0m 951us/step - loss: 0.4914 - recall: 0.9407 - val_loss: 0.5276 - val_recall: 0.9672\n",
      "Epoch 63/100\n",
      "\u001b[1m20/20\u001b[0m \u001b[32m━━━━━━━━━━━━━━━━━━━━\u001b[0m\u001b[37m\u001b[0m \u001b[1m0s\u001b[0m 951us/step - loss: 0.5182 - recall: 0.9502 - val_loss: 0.5267 - val_recall: 0.9672\n",
      "Epoch 64/100\n",
      "\u001b[1m20/20\u001b[0m \u001b[32m━━━━━━━━━━━━━━━━━━━━\u001b[0m\u001b[37m\u001b[0m \u001b[1m0s\u001b[0m 968us/step - loss: 0.5046 - recall: 0.9759 - val_loss: 0.5184 - val_recall: 0.9672\n",
      "Epoch 65/100\n",
      "\u001b[1m20/20\u001b[0m \u001b[32m━━━━━━━━━━━━━━━━━━━━\u001b[0m\u001b[37m\u001b[0m \u001b[1m0s\u001b[0m 1ms/step - loss: 0.5037 - recall: 0.9613 - val_loss: 0.5148 - val_recall: 0.9672\n",
      "Epoch 66/100\n",
      "\u001b[1m20/20\u001b[0m \u001b[32m━━━━━━━━━━━━━━━━━━━━\u001b[0m\u001b[37m\u001b[0m \u001b[1m0s\u001b[0m 1ms/step - loss: 0.4989 - recall: 0.9688 - val_loss: 0.5089 - val_recall: 0.8689\n",
      "Epoch 67/100\n",
      "\u001b[1m20/20\u001b[0m \u001b[32m━━━━━━━━━━━━━━━━━━━━\u001b[0m\u001b[37m\u001b[0m \u001b[1m0s\u001b[0m 1ms/step - loss: 0.5001 - recall: 0.8956 - val_loss: 0.5361 - val_recall: 0.9672\n",
      "Epoch 68/100\n",
      "\u001b[1m20/20\u001b[0m \u001b[32m━━━━━━━━━━━━━━━━━━━━\u001b[0m\u001b[37m\u001b[0m \u001b[1m0s\u001b[0m 960us/step - loss: 0.4918 - recall: 0.9603 - val_loss: 0.5098 - val_recall: 0.9344\n",
      "Epoch 69/100\n",
      "\u001b[1m20/20\u001b[0m \u001b[32m━━━━━━━━━━━━━━━━━━━━\u001b[0m\u001b[37m\u001b[0m \u001b[1m0s\u001b[0m 1ms/step - loss: 0.4986 - recall: 0.9370 - val_loss: 0.5125 - val_recall: 0.9672\n",
      "Epoch 70/100\n",
      "\u001b[1m20/20\u001b[0m \u001b[32m━━━━━━━━━━━━━━━━━━━━\u001b[0m\u001b[37m\u001b[0m \u001b[1m0s\u001b[0m 979us/step - loss: 0.4772 - recall: 0.9759 - val_loss: 0.5055 - val_recall: 0.8689\n",
      "Epoch 71/100\n",
      "\u001b[1m20/20\u001b[0m \u001b[32m━━━━━━━━━━━━━━━━━━━━\u001b[0m\u001b[37m\u001b[0m \u001b[1m0s\u001b[0m 1ms/step - loss: 0.4897 - recall: 0.9036 - val_loss: 0.5038 - val_recall: 0.9344\n",
      "Epoch 72/100\n",
      "\u001b[1m20/20\u001b[0m \u001b[32m━━━━━━━━━━━━━━━━━━━━\u001b[0m\u001b[37m\u001b[0m \u001b[1m0s\u001b[0m 991us/step - loss: 0.4770 - recall: 0.9744 - val_loss: 0.5025 - val_recall: 0.8689\n",
      "Epoch 73/100\n",
      "\u001b[1m20/20\u001b[0m \u001b[32m━━━━━━━━━━━━━━━━━━━━\u001b[0m\u001b[37m\u001b[0m \u001b[1m0s\u001b[0m 1ms/step - loss: 0.4819 - recall: 0.9129 - val_loss: 0.5085 - val_recall: 0.9672\n",
      "Epoch 74/100\n",
      "\u001b[1m20/20\u001b[0m \u001b[32m━━━━━━━━━━━━━━━━━━━━\u001b[0m\u001b[37m\u001b[0m \u001b[1m0s\u001b[0m 1ms/step - loss: 0.4901 - recall: 0.9535 - val_loss: 0.5161 - val_recall: 0.9672\n",
      "Epoch 75/100\n",
      "\u001b[1m20/20\u001b[0m \u001b[32m━━━━━━━━━━━━━━━━━━━━\u001b[0m\u001b[37m\u001b[0m \u001b[1m0s\u001b[0m 914us/step - loss: 0.4818 - recall: 0.9582 - val_loss: 0.5043 - val_recall: 0.9016\n",
      "Epoch 76/100\n",
      "\u001b[1m20/20\u001b[0m \u001b[32m━━━━━━━━━━━━━━━━━━━━\u001b[0m\u001b[37m\u001b[0m \u001b[1m0s\u001b[0m 977us/step - loss: 0.4901 - recall: 0.9362 - val_loss: 0.5047 - val_recall: 0.9672\n",
      "Epoch 77/100\n",
      "\u001b[1m20/20\u001b[0m \u001b[32m━━━━━━━━━━━━━━━━━━━━\u001b[0m\u001b[37m\u001b[0m \u001b[1m0s\u001b[0m 1ms/step - loss: 0.4674 - recall: 0.9686 - val_loss: 0.4987 - val_recall: 0.9180\n",
      "Epoch 78/100\n",
      "\u001b[1m20/20\u001b[0m \u001b[32m━━━━━━━━━━━━━━━━━━━━\u001b[0m\u001b[37m\u001b[0m \u001b[1m0s\u001b[0m 1ms/step - loss: 0.4769 - recall: 0.9637 - val_loss: 0.5099 - val_recall: 0.9672\n",
      "Epoch 79/100\n",
      "\u001b[1m20/20\u001b[0m \u001b[32m━━━━━━━━━━━━━━━━━━━━\u001b[0m\u001b[37m\u001b[0m \u001b[1m0s\u001b[0m 972us/step - loss: 0.4862 - recall: 0.9651 - val_loss: 0.5036 - val_recall: 0.9672\n",
      "Epoch 80/100\n",
      "\u001b[1m20/20\u001b[0m \u001b[32m━━━━━━━━━━━━━━━━━━━━\u001b[0m\u001b[37m\u001b[0m \u001b[1m0s\u001b[0m 964us/step - loss: 0.4897 - recall: 0.9578 - val_loss: 0.4952 - val_recall: 0.9016\n",
      "Epoch 81/100\n",
      "\u001b[1m20/20\u001b[0m \u001b[32m━━━━━━━━━━━━━━━━━━━━\u001b[0m\u001b[37m\u001b[0m \u001b[1m0s\u001b[0m 994us/step - loss: 0.4715 - recall: 0.9505 - val_loss: 0.4950 - val_recall: 0.8689\n",
      "Epoch 82/100\n",
      "\u001b[1m20/20\u001b[0m \u001b[32m━━━━━━━━━━━━━━━━━━━━\u001b[0m\u001b[37m\u001b[0m \u001b[1m0s\u001b[0m 987us/step - loss: 0.4870 - recall: 0.9201 - val_loss: 0.4942 - val_recall: 0.8852\n",
      "Epoch 83/100\n",
      "\u001b[1m20/20\u001b[0m \u001b[32m━━━━━━━━━━━━━━━━━━━━\u001b[0m\u001b[37m\u001b[0m \u001b[1m0s\u001b[0m 1ms/step - loss: 0.4665 - recall: 0.9189 - val_loss: 0.4937 - val_recall: 0.8689\n",
      "Epoch 84/100\n",
      "\u001b[1m20/20\u001b[0m \u001b[32m━━━━━━━━━━━━━━━━━━━━\u001b[0m\u001b[37m\u001b[0m \u001b[1m0s\u001b[0m 1ms/step - loss: 0.5021 - recall: 0.9301 - val_loss: 0.4924 - val_recall: 0.9016\n",
      "Epoch 85/100\n",
      "\u001b[1m20/20\u001b[0m \u001b[32m━━━━━━━━━━━━━━━━━━━━\u001b[0m\u001b[37m\u001b[0m \u001b[1m0s\u001b[0m 1ms/step - loss: 0.4871 - recall: 0.9302 - val_loss: 0.4955 - val_recall: 0.9672\n",
      "Epoch 86/100\n",
      "\u001b[1m20/20\u001b[0m \u001b[32m━━━━━━━━━━━━━━━━━━━━\u001b[0m\u001b[37m\u001b[0m \u001b[1m0s\u001b[0m 971us/step - loss: 0.4790 - recall: 0.9665 - val_loss: 0.4927 - val_recall: 0.9672\n",
      "Epoch 87/100\n",
      "\u001b[1m20/20\u001b[0m \u001b[32m━━━━━━━━━━━━━━━━━━━━\u001b[0m\u001b[37m\u001b[0m \u001b[1m0s\u001b[0m 1000us/step - loss: 0.4709 - recall: 0.9529 - val_loss: 0.4970 - val_recall: 0.9672\n",
      "Epoch 88/100\n",
      "\u001b[1m20/20\u001b[0m \u001b[32m━━━━━━━━━━━━━━━━━━━━\u001b[0m\u001b[37m\u001b[0m \u001b[1m0s\u001b[0m 1ms/step - loss: 0.4630 - recall: 0.9617 - val_loss: 0.4998 - val_recall: 0.9672\n",
      "Epoch 89/100\n",
      "\u001b[1m20/20\u001b[0m \u001b[32m━━━━━━━━━━━━━━━━━━━━\u001b[0m\u001b[37m\u001b[0m \u001b[1m0s\u001b[0m 1ms/step - loss: 0.4789 - recall: 0.9695 - val_loss: 0.4991 - val_recall: 0.9672\n",
      "Epoch 90/100\n",
      "\u001b[1m20/20\u001b[0m \u001b[32m━━━━━━━━━━━━━━━━━━━━\u001b[0m\u001b[37m\u001b[0m \u001b[1m0s\u001b[0m 1ms/step - loss: 0.4989 - recall: 0.9440 - val_loss: 0.5485 - val_recall: 0.9672\n",
      "Epoch 91/100\n",
      "\u001b[1m20/20\u001b[0m \u001b[32m━━━━━━━━━━━━━━━━━━━━\u001b[0m\u001b[37m\u001b[0m \u001b[1m0s\u001b[0m 970us/step - loss: 0.4904 - recall: 0.9541 - val_loss: 0.4952 - val_recall: 0.9672\n",
      "Epoch 92/100\n",
      "\u001b[1m20/20\u001b[0m \u001b[32m━━━━━━━━━━━━━━━━━━━━\u001b[0m\u001b[37m\u001b[0m \u001b[1m0s\u001b[0m 1ms/step - loss: 0.4816 - recall: 0.9637 - val_loss: 0.4925 - val_recall: 0.9672\n",
      "Epoch 93/100\n",
      "\u001b[1m20/20\u001b[0m \u001b[32m━━━━━━━━━━━━━━━━━━━━\u001b[0m\u001b[37m\u001b[0m \u001b[1m0s\u001b[0m 988us/step - loss: 0.4889 - recall: 0.9593 - val_loss: 0.4872 - val_recall: 0.9672\n",
      "Epoch 94/100\n",
      "\u001b[1m20/20\u001b[0m \u001b[32m━━━━━━━━━━━━━━━━━━━━\u001b[0m\u001b[37m\u001b[0m \u001b[1m0s\u001b[0m 1ms/step - loss: 0.4794 - recall: 0.9510 - val_loss: 0.4987 - val_recall: 0.9672\n",
      "Epoch 95/100\n",
      "\u001b[1m20/20\u001b[0m \u001b[32m━━━━━━━━━━━━━━━━━━━━\u001b[0m\u001b[37m\u001b[0m \u001b[1m0s\u001b[0m 1ms/step - loss: 0.4733 - recall: 0.9418 - val_loss: 0.5127 - val_recall: 0.9672\n",
      "Epoch 96/100\n",
      "\u001b[1m20/20\u001b[0m \u001b[32m━━━━━━━━━━━━━━━━━━━━\u001b[0m\u001b[37m\u001b[0m \u001b[1m0s\u001b[0m 1ms/step - loss: 0.4847 - recall: 0.9612 - val_loss: 0.4854 - val_recall: 0.9016\n",
      "Epoch 97/100\n",
      "\u001b[1m20/20\u001b[0m \u001b[32m━━━━━━━━━━━━━━━━━━━━\u001b[0m\u001b[37m\u001b[0m \u001b[1m0s\u001b[0m 1ms/step - loss: 0.4421 - recall: 0.9614 - val_loss: 0.4936 - val_recall: 0.9672\n",
      "Epoch 98/100\n",
      "\u001b[1m20/20\u001b[0m \u001b[32m━━━━━━━━━━━━━━━━━━━━\u001b[0m\u001b[37m\u001b[0m \u001b[1m0s\u001b[0m 1ms/step - loss: 0.4745 - recall: 0.9662 - val_loss: 0.4869 - val_recall: 0.9672\n",
      "Epoch 99/100\n",
      "\u001b[1m20/20\u001b[0m \u001b[32m━━━━━━━━━━━━━━━━━━━━\u001b[0m\u001b[37m\u001b[0m \u001b[1m0s\u001b[0m 1ms/step - loss: 0.4750 - recall: 0.9418 - val_loss: 0.5168 - val_recall: 0.9672\n",
      "Epoch 100/100\n",
      "\u001b[1m20/20\u001b[0m \u001b[32m━━━━━━━━━━━━━━━━━━━━\u001b[0m\u001b[37m\u001b[0m \u001b[1m0s\u001b[0m 1ms/step - loss: 0.4873 - recall: 0.9520 - val_loss: 0.5230 - val_recall: 0.9672\n"
     ]
    }
   ],
   "source": [
    "model1 = FirstNN(X_train,y_train)"
   ]
  },
  {
   "cell_type": "markdown",
   "metadata": {},
   "source": [
    "# Hyperparameter Tuning\n",
    "Now, we will dive into Hyperparameter Tuning using 2 hidden layers:"
   ]
  },
  {
   "cell_type": "code",
   "execution_count": 11,
   "metadata": {},
   "outputs": [
    {
     "name": "stdout",
     "output_type": "stream",
     "text": [
      "Reloading Tuner from ./untitled_project/tuner0.json\n"
     ]
    }
   ],
   "source": [
    "def HyperModel(hp):\n",
    "    model = Sequential()\n",
    "    # Tune the number of units in the first hidden layer\n",
    "    hp_units_1 = hp.Int('units_1', min_value=10, max_value=100, step=10)\n",
    "    model.add(Dense(units=hp_units_1, activation='relu', input_dim=X_train.shape[1]))\n",
    "    \n",
    "    # Tune the number of units in the second hidden layer\n",
    "    hp_units_2 = hp.Int('units_2', min_value=10, max_value=100, step=10)\n",
    "    model.add(Dense(units=hp_units_2, activation='relu'))\n",
    "    \n",
    "    model.add(Dense(1, activation='sigmoid'))\n",
    "\n",
    "    # Tune the learning rate for the optimizer\n",
    "    hp_learning_rate = hp.Choice('learning_rate', values=[1e-2, 1e-3, 1e-4])\n",
    "\n",
    "    model.compile(optimizer=Adam(learning_rate=hp_learning_rate),\n",
    "                  loss='binary_crossentropy',\n",
    "                  metrics=[Recall()])\n",
    "    return model\n",
    "tuner = RandomSearch(\n",
    "    HyperModel,\n",
    "    objective='val_recall',\n",
    "    max_trials=10,\n",
    "    executions_per_trial=3,\n",
    ")"
   ]
  },
  {
   "cell_type": "code",
   "execution_count": 12,
   "metadata": {},
   "outputs": [],
   "source": [
    "tuner.search(X_train, y_train, epochs=100, validation_split=0.2, verbose=1)"
   ]
  },
  {
   "cell_type": "code",
   "execution_count": 13,
   "metadata": {},
   "outputs": [],
   "source": [
    "best_hps = tuner.get_best_hyperparameters(num_trials=1)[0]"
   ]
  },
  {
   "cell_type": "code",
   "execution_count": 14,
   "metadata": {},
   "outputs": [
    {
     "name": "stdout",
     "output_type": "stream",
     "text": [
      "Epoch 1/100\n",
      "\u001b[1m20/20\u001b[0m \u001b[32m━━━━━━━━━━━━━━━━━━━━\u001b[0m\u001b[37m\u001b[0m \u001b[1m1s\u001b[0m 5ms/step - loss: 0.8405 - recall_2: 0.4939 - val_loss: 0.6738 - val_recall_2: 0.0000e+00\n",
      "Epoch 2/100\n",
      "\u001b[1m20/20\u001b[0m \u001b[32m━━━━━━━━━━━━━━━━━━━━\u001b[0m\u001b[37m\u001b[0m \u001b[1m0s\u001b[0m 1ms/step - loss: 0.6925 - recall_2: 0.0756 - val_loss: 0.7406 - val_recall_2: 1.0000\n",
      "Epoch 3/100\n",
      "\u001b[1m20/20\u001b[0m \u001b[32m━━━━━━━━━━━━━━━━━━━━\u001b[0m\u001b[37m\u001b[0m \u001b[1m0s\u001b[0m 1ms/step - loss: 0.7148 - recall_2: 0.7022 - val_loss: 0.7021 - val_recall_2: 1.0000\n",
      "Epoch 4/100\n",
      "\u001b[1m20/20\u001b[0m \u001b[32m━━━━━━━━━━━━━━━━━━━━\u001b[0m\u001b[37m\u001b[0m \u001b[1m0s\u001b[0m 1ms/step - loss: 0.6774 - recall_2: 0.7548 - val_loss: 0.6682 - val_recall_2: 0.7213\n",
      "Epoch 5/100\n",
      "\u001b[1m20/20\u001b[0m \u001b[32m━━━━━━━━━━━━━━━━━━━━\u001b[0m\u001b[37m\u001b[0m \u001b[1m0s\u001b[0m 1ms/step - loss: 0.6600 - recall_2: 0.7383 - val_loss: 0.6656 - val_recall_2: 0.9836\n",
      "Epoch 6/100\n",
      "\u001b[1m20/20\u001b[0m \u001b[32m━━━━━━━━━━━━━━━━━━━━\u001b[0m\u001b[37m\u001b[0m \u001b[1m0s\u001b[0m 1ms/step - loss: 0.6585 - recall_2: 0.7678 - val_loss: 0.6239 - val_recall_2: 0.0000e+00\n",
      "Epoch 7/100\n",
      "\u001b[1m20/20\u001b[0m \u001b[32m━━━━━━━━━━━━━━━━━━━━\u001b[0m\u001b[37m\u001b[0m \u001b[1m0s\u001b[0m 1ms/step - loss: 0.6230 - recall_2: 0.3777 - val_loss: 0.6088 - val_recall_2: 0.9344\n",
      "Epoch 8/100\n",
      "\u001b[1m20/20\u001b[0m \u001b[32m━━━━━━━━━━━━━━━━━━━━\u001b[0m\u001b[37m\u001b[0m \u001b[1m0s\u001b[0m 1ms/step - loss: 0.5932 - recall_2: 0.9367 - val_loss: 0.5974 - val_recall_2: 0.9672\n",
      "Epoch 9/100\n",
      "\u001b[1m20/20\u001b[0m \u001b[32m━━━━━━━━━━━━━━━━━━━━\u001b[0m\u001b[37m\u001b[0m \u001b[1m0s\u001b[0m 1ms/step - loss: 0.5616 - recall_2: 0.8120 - val_loss: 0.6118 - val_recall_2: 0.9672\n",
      "Epoch 10/100\n",
      "\u001b[1m20/20\u001b[0m \u001b[32m━━━━━━━━━━━━━━━━━━━━\u001b[0m\u001b[37m\u001b[0m \u001b[1m0s\u001b[0m 1ms/step - loss: 0.5305 - recall_2: 0.7766 - val_loss: 0.5483 - val_recall_2: 0.8689\n",
      "Epoch 11/100\n",
      "\u001b[1m20/20\u001b[0m \u001b[32m━━━━━━━━━━━━━━━━━━━━\u001b[0m\u001b[37m\u001b[0m \u001b[1m0s\u001b[0m 1ms/step - loss: 0.5358 - recall_2: 0.8688 - val_loss: 0.5426 - val_recall_2: 0.9344\n",
      "Epoch 12/100\n",
      "\u001b[1m20/20\u001b[0m \u001b[32m━━━━━━━━━━━━━━━━━━━━\u001b[0m\u001b[37m\u001b[0m \u001b[1m0s\u001b[0m 1ms/step - loss: 0.4974 - recall_2: 0.9155 - val_loss: 0.5115 - val_recall_2: 0.8689\n",
      "Epoch 13/100\n",
      "\u001b[1m20/20\u001b[0m \u001b[32m━━━━━━━━━━━━━━━━━━━━\u001b[0m\u001b[37m\u001b[0m \u001b[1m0s\u001b[0m 1ms/step - loss: 0.5101 - recall_2: 0.9015 - val_loss: 0.5172 - val_recall_2: 0.9016\n",
      "Epoch 14/100\n",
      "\u001b[1m20/20\u001b[0m \u001b[32m━━━━━━━━━━━━━━━━━━━━\u001b[0m\u001b[37m\u001b[0m \u001b[1m0s\u001b[0m 1ms/step - loss: 0.5005 - recall_2: 0.9270 - val_loss: 0.4962 - val_recall_2: 0.8525\n",
      "Epoch 15/100\n",
      "\u001b[1m20/20\u001b[0m \u001b[32m━━━━━━━━━━━━━━━━━━━━\u001b[0m\u001b[37m\u001b[0m \u001b[1m0s\u001b[0m 1ms/step - loss: 0.4879 - recall_2: 0.8755 - val_loss: 0.5761 - val_recall_2: 0.9672\n",
      "Epoch 16/100\n",
      "\u001b[1m20/20\u001b[0m \u001b[32m━━━━━━━━━━━━━━━━━━━━\u001b[0m\u001b[37m\u001b[0m \u001b[1m0s\u001b[0m 1ms/step - loss: 0.5139 - recall_2: 0.6929 - val_loss: 0.5035 - val_recall_2: 0.9672\n",
      "Epoch 17/100\n",
      "\u001b[1m20/20\u001b[0m \u001b[32m━━━━━━━━━━━━━━━━━━━━\u001b[0m\u001b[37m\u001b[0m \u001b[1m0s\u001b[0m 1ms/step - loss: 0.4834 - recall_2: 0.9150 - val_loss: 0.5968 - val_recall_2: 0.9836\n",
      "Epoch 18/100\n",
      "\u001b[1m20/20\u001b[0m \u001b[32m━━━━━━━━━━━━━━━━━━━━\u001b[0m\u001b[37m\u001b[0m \u001b[1m0s\u001b[0m 1ms/step - loss: 0.5548 - recall_2: 0.7703 - val_loss: 0.4960 - val_recall_2: 0.8689\n",
      "Epoch 19/100\n",
      "\u001b[1m20/20\u001b[0m \u001b[32m━━━━━━━━━━━━━━━━━━━━\u001b[0m\u001b[37m\u001b[0m \u001b[1m0s\u001b[0m 1ms/step - loss: 0.5056 - recall_2: 0.7523 - val_loss: 0.4939 - val_recall_2: 0.9672\n",
      "Epoch 20/100\n",
      "\u001b[1m20/20\u001b[0m \u001b[32m━━━━━━━━━━━━━━━━━━━━\u001b[0m\u001b[37m\u001b[0m \u001b[1m0s\u001b[0m 1ms/step - loss: 0.4896 - recall_2: 0.9418 - val_loss: 0.4863 - val_recall_2: 0.8361\n",
      "Epoch 21/100\n",
      "\u001b[1m20/20\u001b[0m \u001b[32m━━━━━━━━━━━━━━━━━━━━\u001b[0m\u001b[37m\u001b[0m \u001b[1m0s\u001b[0m 1ms/step - loss: 0.4666 - recall_2: 0.8341 - val_loss: 0.4842 - val_recall_2: 0.9016\n",
      "Epoch 22/100\n",
      "\u001b[1m20/20\u001b[0m \u001b[32m━━━━━━━━━━━━━━━━━━━━\u001b[0m\u001b[37m\u001b[0m \u001b[1m0s\u001b[0m 1ms/step - loss: 0.4592 - recall_2: 0.9346 - val_loss: 0.5102 - val_recall_2: 0.7377\n",
      "Epoch 23/100\n",
      "\u001b[1m20/20\u001b[0m \u001b[32m━━━━━━━━━━━━━━━━━━━━\u001b[0m\u001b[37m\u001b[0m \u001b[1m0s\u001b[0m 1ms/step - loss: 0.4875 - recall_2: 0.8677 - val_loss: 0.4804 - val_recall_2: 0.9508\n",
      "Epoch 24/100\n",
      "\u001b[1m20/20\u001b[0m \u001b[32m━━━━━━━━━━━━━━━━━━━━\u001b[0m\u001b[37m\u001b[0m \u001b[1m0s\u001b[0m 1ms/step - loss: 0.5065 - recall_2: 0.8724 - val_loss: 0.5058 - val_recall_2: 0.9672\n",
      "Epoch 25/100\n",
      "\u001b[1m20/20\u001b[0m \u001b[32m━━━━━━━━━━━━━━━━━━━━\u001b[0m\u001b[37m\u001b[0m \u001b[1m0s\u001b[0m 1ms/step - loss: 0.4773 - recall_2: 0.8758 - val_loss: 0.6496 - val_recall_2: 0.9836\n",
      "Epoch 26/100\n",
      "\u001b[1m20/20\u001b[0m \u001b[32m━━━━━━━━━━━━━━━━━━━━\u001b[0m\u001b[37m\u001b[0m \u001b[1m0s\u001b[0m 1ms/step - loss: 0.5377 - recall_2: 0.8361 - val_loss: 0.4937 - val_recall_2: 0.9672\n",
      "Epoch 27/100\n",
      "\u001b[1m20/20\u001b[0m \u001b[32m━━━━━━━━━━━━━━━━━━━━\u001b[0m\u001b[37m\u001b[0m \u001b[1m0s\u001b[0m 1ms/step - loss: 0.4688 - recall_2: 0.9718 - val_loss: 0.4811 - val_recall_2: 0.9672\n",
      "Epoch 28/100\n",
      "\u001b[1m20/20\u001b[0m \u001b[32m━━━━━━━━━━━━━━━━━━━━\u001b[0m\u001b[37m\u001b[0m \u001b[1m0s\u001b[0m 1ms/step - loss: 0.4662 - recall_2: 0.9556 - val_loss: 0.4893 - val_recall_2: 0.9672\n",
      "Epoch 29/100\n",
      "\u001b[1m20/20\u001b[0m \u001b[32m━━━━━━━━━━━━━━━━━━━━\u001b[0m\u001b[37m\u001b[0m \u001b[1m0s\u001b[0m 1ms/step - loss: 0.4822 - recall_2: 0.9456 - val_loss: 0.4791 - val_recall_2: 0.8361\n",
      "Epoch 30/100\n",
      "\u001b[1m20/20\u001b[0m \u001b[32m━━━━━━━━━━━━━━━━━━━━\u001b[0m\u001b[37m\u001b[0m \u001b[1m0s\u001b[0m 1ms/step - loss: 0.4560 - recall_2: 0.9122 - val_loss: 0.5054 - val_recall_2: 0.9672\n",
      "Epoch 31/100\n",
      "\u001b[1m20/20\u001b[0m \u001b[32m━━━━━━━━━━━━━━━━━━━━\u001b[0m\u001b[37m\u001b[0m \u001b[1m0s\u001b[0m 1ms/step - loss: 0.5117 - recall_2: 0.8582 - val_loss: 0.5104 - val_recall_2: 0.7213\n",
      "Epoch 32/100\n",
      "\u001b[1m20/20\u001b[0m \u001b[32m━━━━━━━━━━━━━━━━━━━━\u001b[0m\u001b[37m\u001b[0m \u001b[1m0s\u001b[0m 1ms/step - loss: 0.4987 - recall_2: 0.8430 - val_loss: 0.4706 - val_recall_2: 0.9508\n",
      "Epoch 33/100\n",
      "\u001b[1m20/20\u001b[0m \u001b[32m━━━━━━━━━━━━━━━━━━━━\u001b[0m\u001b[37m\u001b[0m \u001b[1m0s\u001b[0m 1ms/step - loss: 0.4961 - recall_2: 0.9398 - val_loss: 0.4921 - val_recall_2: 0.9672\n",
      "Epoch 34/100\n",
      "\u001b[1m20/20\u001b[0m \u001b[32m━━━━━━━━━━━━━━━━━━━━\u001b[0m\u001b[37m\u001b[0m \u001b[1m0s\u001b[0m 1ms/step - loss: 0.4448 - recall_2: 0.9436 - val_loss: 0.4822 - val_recall_2: 0.9672\n",
      "Epoch 35/100\n",
      "\u001b[1m20/20\u001b[0m \u001b[32m━━━━━━━━━━━━━━━━━━━━\u001b[0m\u001b[37m\u001b[0m \u001b[1m0s\u001b[0m 1ms/step - loss: 0.4737 - recall_2: 0.7949 - val_loss: 0.4815 - val_recall_2: 0.9016\n",
      "Epoch 36/100\n",
      "\u001b[1m20/20\u001b[0m \u001b[32m━━━━━━━━━━━━━━━━━━━━\u001b[0m\u001b[37m\u001b[0m \u001b[1m0s\u001b[0m 1ms/step - loss: 0.4526 - recall_2: 0.9742 - val_loss: 0.4774 - val_recall_2: 0.9672\n",
      "Epoch 37/100\n",
      "\u001b[1m20/20\u001b[0m \u001b[32m━━━━━━━━━━━━━━━━━━━━\u001b[0m\u001b[37m\u001b[0m \u001b[1m0s\u001b[0m 1ms/step - loss: 0.4695 - recall_2: 0.9574 - val_loss: 0.4629 - val_recall_2: 0.9016\n",
      "Epoch 38/100\n",
      "\u001b[1m20/20\u001b[0m \u001b[32m━━━━━━━━━━━━━━━━━━━━\u001b[0m\u001b[37m\u001b[0m \u001b[1m0s\u001b[0m 1ms/step - loss: 0.4321 - recall_2: 0.9350 - val_loss: 0.5078 - val_recall_2: 0.9672\n",
      "Epoch 39/100\n",
      "\u001b[1m20/20\u001b[0m \u001b[32m━━━━━━━━━━━━━━━━━━━━\u001b[0m\u001b[37m\u001b[0m \u001b[1m0s\u001b[0m 1ms/step - loss: 0.4852 - recall_2: 0.8985 - val_loss: 0.4939 - val_recall_2: 0.9672\n",
      "Epoch 40/100\n",
      "\u001b[1m20/20\u001b[0m \u001b[32m━━━━━━━━━━━━━━━━━━━━\u001b[0m\u001b[37m\u001b[0m \u001b[1m0s\u001b[0m 1ms/step - loss: 0.4410 - recall_2: 0.9790 - val_loss: 0.4936 - val_recall_2: 0.9672\n",
      "Epoch 41/100\n",
      "\u001b[1m20/20\u001b[0m \u001b[32m━━━━━━━━━━━━━━━━━━━━\u001b[0m\u001b[37m\u001b[0m \u001b[1m0s\u001b[0m 1ms/step - loss: 0.4713 - recall_2: 0.9037 - val_loss: 0.4922 - val_recall_2: 0.9672\n",
      "Epoch 42/100\n",
      "\u001b[1m20/20\u001b[0m \u001b[32m━━━━━━━━━━━━━━━━━━━━\u001b[0m\u001b[37m\u001b[0m \u001b[1m0s\u001b[0m 1ms/step - loss: 0.5184 - recall_2: 0.9004 - val_loss: 0.4746 - val_recall_2: 0.9672\n",
      "Epoch 43/100\n",
      "\u001b[1m20/20\u001b[0m \u001b[32m━━━━━━━━━━━━━━━━━━━━\u001b[0m\u001b[37m\u001b[0m \u001b[1m0s\u001b[0m 1ms/step - loss: 0.4540 - recall_2: 0.9350 - val_loss: 0.4719 - val_recall_2: 0.9672\n",
      "Epoch 44/100\n",
      "\u001b[1m20/20\u001b[0m \u001b[32m━━━━━━━━━━━━━━━━━━━━\u001b[0m\u001b[37m\u001b[0m \u001b[1m0s\u001b[0m 1ms/step - loss: 0.4719 - recall_2: 0.9112 - val_loss: 0.4712 - val_recall_2: 0.9672\n",
      "Epoch 45/100\n",
      "\u001b[1m20/20\u001b[0m \u001b[32m━━━━━━━━━━━━━━━━━━━━\u001b[0m\u001b[37m\u001b[0m \u001b[1m0s\u001b[0m 1ms/step - loss: 0.4592 - recall_2: 0.9438 - val_loss: 0.5572 - val_recall_2: 0.9672\n",
      "Epoch 46/100\n",
      "\u001b[1m20/20\u001b[0m \u001b[32m━━━━━━━━━━━━━━━━━━━━\u001b[0m\u001b[37m\u001b[0m \u001b[1m0s\u001b[0m 1ms/step - loss: 0.4815 - recall_2: 0.9212 - val_loss: 0.4624 - val_recall_2: 0.8852\n",
      "Epoch 47/100\n",
      "\u001b[1m20/20\u001b[0m \u001b[32m━━━━━━━━━━━━━━━━━━━━\u001b[0m\u001b[37m\u001b[0m \u001b[1m0s\u001b[0m 1ms/step - loss: 0.4723 - recall_2: 0.7664 - val_loss: 0.4861 - val_recall_2: 0.9672\n",
      "Epoch 48/100\n",
      "\u001b[1m20/20\u001b[0m \u001b[32m━━━━━━━━━━━━━━━━━━━━\u001b[0m\u001b[37m\u001b[0m \u001b[1m0s\u001b[0m 1ms/step - loss: 0.4627 - recall_2: 0.9529 - val_loss: 0.4933 - val_recall_2: 0.9672\n",
      "Epoch 49/100\n",
      "\u001b[1m20/20\u001b[0m \u001b[32m━━━━━━━━━━━━━━━━━━━━\u001b[0m\u001b[37m\u001b[0m \u001b[1m0s\u001b[0m 1ms/step - loss: 0.4669 - recall_2: 0.9505 - val_loss: 0.4594 - val_recall_2: 0.8525\n",
      "Epoch 50/100\n",
      "\u001b[1m20/20\u001b[0m \u001b[32m━━━━━━━━━━━━━━━━━━━━\u001b[0m\u001b[37m\u001b[0m \u001b[1m0s\u001b[0m 1ms/step - loss: 0.4765 - recall_2: 0.8373 - val_loss: 0.4662 - val_recall_2: 0.9508\n",
      "Epoch 51/100\n",
      "\u001b[1m20/20\u001b[0m \u001b[32m━━━━━━━━━━━━━━━━━━━━\u001b[0m\u001b[37m\u001b[0m \u001b[1m0s\u001b[0m 1ms/step - loss: 0.4688 - recall_2: 0.8968 - val_loss: 0.5015 - val_recall_2: 0.9672\n",
      "Epoch 52/100\n",
      "\u001b[1m20/20\u001b[0m \u001b[32m━━━━━━━━━━━━━━━━━━━━\u001b[0m\u001b[37m\u001b[0m \u001b[1m0s\u001b[0m 1ms/step - loss: 0.4708 - recall_2: 0.9461 - val_loss: 0.4657 - val_recall_2: 0.9672\n",
      "Epoch 53/100\n",
      "\u001b[1m20/20\u001b[0m \u001b[32m━━━━━━━━━━━━━━━━━━━━\u001b[0m\u001b[37m\u001b[0m \u001b[1m0s\u001b[0m 1ms/step - loss: 0.4554 - recall_2: 0.9210 - val_loss: 0.5490 - val_recall_2: 0.9672\n",
      "Epoch 54/100\n",
      "\u001b[1m20/20\u001b[0m \u001b[32m━━━━━━━━━━━━━━━━━━━━\u001b[0m\u001b[37m\u001b[0m \u001b[1m0s\u001b[0m 1ms/step - loss: 0.4934 - recall_2: 0.9525 - val_loss: 0.4550 - val_recall_2: 0.9016\n",
      "Epoch 55/100\n",
      "\u001b[1m20/20\u001b[0m \u001b[32m━━━━━━━━━━━━━━━━━━━━\u001b[0m\u001b[37m\u001b[0m \u001b[1m0s\u001b[0m 1ms/step - loss: 0.4567 - recall_2: 0.9024 - val_loss: 0.4600 - val_recall_2: 0.9180\n",
      "Epoch 56/100\n",
      "\u001b[1m20/20\u001b[0m \u001b[32m━━━━━━━━━━━━━━━━━━━━\u001b[0m\u001b[37m\u001b[0m \u001b[1m0s\u001b[0m 1ms/step - loss: 0.4984 - recall_2: 0.8611 - val_loss: 0.4853 - val_recall_2: 0.9672\n",
      "Epoch 57/100\n",
      "\u001b[1m20/20\u001b[0m \u001b[32m━━━━━━━━━━━━━━━━━━━━\u001b[0m\u001b[37m\u001b[0m \u001b[1m0s\u001b[0m 1ms/step - loss: 0.4542 - recall_2: 0.9133 - val_loss: 0.4770 - val_recall_2: 0.9672\n",
      "Epoch 58/100\n",
      "\u001b[1m20/20\u001b[0m \u001b[32m━━━━━━━━━━━━━━━━━━━━\u001b[0m\u001b[37m\u001b[0m \u001b[1m0s\u001b[0m 1ms/step - loss: 0.5031 - recall_2: 0.8553 - val_loss: 0.4581 - val_recall_2: 0.9180\n",
      "Epoch 59/100\n",
      "\u001b[1m20/20\u001b[0m \u001b[32m━━━━━━━━━━━━━━━━━━━━\u001b[0m\u001b[37m\u001b[0m \u001b[1m0s\u001b[0m 1ms/step - loss: 0.4400 - recall_2: 0.8610 - val_loss: 0.4667 - val_recall_2: 0.9672\n",
      "Epoch 60/100\n",
      "\u001b[1m20/20\u001b[0m \u001b[32m━━━━━━━━━━━━━━━━━━━━\u001b[0m\u001b[37m\u001b[0m \u001b[1m0s\u001b[0m 1ms/step - loss: 0.4589 - recall_2: 0.8993 - val_loss: 0.4936 - val_recall_2: 0.9672\n",
      "Epoch 61/100\n",
      "\u001b[1m20/20\u001b[0m \u001b[32m━━━━━━━━━━━━━━━━━━━━\u001b[0m\u001b[37m\u001b[0m \u001b[1m0s\u001b[0m 1ms/step - loss: 0.4657 - recall_2: 0.9382 - val_loss: 0.4527 - val_recall_2: 0.8033\n",
      "Epoch 62/100\n",
      "\u001b[1m20/20\u001b[0m \u001b[32m━━━━━━━━━━━━━━━━━━━━\u001b[0m\u001b[37m\u001b[0m \u001b[1m0s\u001b[0m 1ms/step - loss: 0.4759 - recall_2: 0.8629 - val_loss: 0.4868 - val_recall_2: 0.9672\n",
      "Epoch 63/100\n",
      "\u001b[1m20/20\u001b[0m \u001b[32m━━━━━━━━━━━━━━━━━━━━\u001b[0m\u001b[37m\u001b[0m \u001b[1m0s\u001b[0m 1ms/step - loss: 0.4565 - recall_2: 0.9300 - val_loss: 0.4623 - val_recall_2: 0.9344\n",
      "Epoch 64/100\n",
      "\u001b[1m20/20\u001b[0m \u001b[32m━━━━━━━━━━━━━━━━━━━━\u001b[0m\u001b[37m\u001b[0m \u001b[1m0s\u001b[0m 1ms/step - loss: 0.4389 - recall_2: 0.8919 - val_loss: 0.4977 - val_recall_2: 0.9672\n",
      "Epoch 65/100\n",
      "\u001b[1m20/20\u001b[0m \u001b[32m━━━━━━━━━━━━━━━━━━━━\u001b[0m\u001b[37m\u001b[0m \u001b[1m0s\u001b[0m 1ms/step - loss: 0.4802 - recall_2: 0.9095 - val_loss: 0.4544 - val_recall_2: 0.9016\n",
      "Epoch 66/100\n",
      "\u001b[1m20/20\u001b[0m \u001b[32m━━━━━━━━━━━━━━━━━━━━\u001b[0m\u001b[37m\u001b[0m \u001b[1m0s\u001b[0m 1ms/step - loss: 0.4752 - recall_2: 0.8277 - val_loss: 0.4571 - val_recall_2: 0.8689\n",
      "Epoch 67/100\n",
      "\u001b[1m20/20\u001b[0m \u001b[32m━━━━━━━━━━━━━━━━━━━━\u001b[0m\u001b[37m\u001b[0m \u001b[1m0s\u001b[0m 1ms/step - loss: 0.4526 - recall_2: 0.8625 - val_loss: 0.4886 - val_recall_2: 0.9672\n",
      "Epoch 68/100\n",
      "\u001b[1m20/20\u001b[0m \u001b[32m━━━━━━━━━━━━━━━━━━━━\u001b[0m\u001b[37m\u001b[0m \u001b[1m0s\u001b[0m 964us/step - loss: 0.4273 - recall_2: 0.9362 - val_loss: 0.4720 - val_recall_2: 0.9508\n",
      "Epoch 69/100\n",
      "\u001b[1m20/20\u001b[0m \u001b[32m━━━━━━━━━━━━━━━━━━━━\u001b[0m\u001b[37m\u001b[0m \u001b[1m0s\u001b[0m 1ms/step - loss: 0.4276 - recall_2: 0.8748 - val_loss: 0.4944 - val_recall_2: 0.9672\n",
      "Epoch 70/100\n",
      "\u001b[1m20/20\u001b[0m \u001b[32m━━━━━━━━━━━━━━━━━━━━\u001b[0m\u001b[37m\u001b[0m \u001b[1m0s\u001b[0m 998us/step - loss: 0.4326 - recall_2: 0.9384 - val_loss: 0.4692 - val_recall_2: 0.9508\n",
      "Epoch 71/100\n",
      "\u001b[1m20/20\u001b[0m \u001b[32m━━━━━━━━━━━━━━━━━━━━\u001b[0m\u001b[37m\u001b[0m \u001b[1m0s\u001b[0m 979us/step - loss: 0.4630 - recall_2: 0.8789 - val_loss: 0.4551 - val_recall_2: 0.9180\n",
      "Epoch 72/100\n",
      "\u001b[1m20/20\u001b[0m \u001b[32m━━━━━━━━━━━━━━━━━━━━\u001b[0m\u001b[37m\u001b[0m \u001b[1m0s\u001b[0m 957us/step - loss: 0.4594 - recall_2: 0.8753 - val_loss: 0.4895 - val_recall_2: 0.9672\n",
      "Epoch 73/100\n",
      "\u001b[1m20/20\u001b[0m \u001b[32m━━━━━━━━━━━━━━━━━━━━\u001b[0m\u001b[37m\u001b[0m \u001b[1m0s\u001b[0m 1ms/step - loss: 0.4843 - recall_2: 0.9128 - val_loss: 0.4983 - val_recall_2: 0.9672\n",
      "Epoch 74/100\n",
      "\u001b[1m20/20\u001b[0m \u001b[32m━━━━━━━━━━━━━━━━━━━━\u001b[0m\u001b[37m\u001b[0m \u001b[1m0s\u001b[0m 1ms/step - loss: 0.4584 - recall_2: 0.8746 - val_loss: 0.4579 - val_recall_2: 0.9180\n",
      "Epoch 75/100\n",
      "\u001b[1m20/20\u001b[0m \u001b[32m━━━━━━━━━━━━━━━━━━━━\u001b[0m\u001b[37m\u001b[0m \u001b[1m0s\u001b[0m 1ms/step - loss: 0.4633 - recall_2: 0.8054 - val_loss: 0.4941 - val_recall_2: 0.9672\n",
      "Epoch 76/100\n",
      "\u001b[1m20/20\u001b[0m \u001b[32m━━━━━━━━━━━━━━━━━━━━\u001b[0m\u001b[37m\u001b[0m \u001b[1m0s\u001b[0m 1ms/step - loss: 0.4549 - recall_2: 0.9329 - val_loss: 0.4713 - val_recall_2: 0.9508\n",
      "Epoch 77/100\n",
      "\u001b[1m20/20\u001b[0m \u001b[32m━━━━━━━━━━━━━━━━━━━━\u001b[0m\u001b[37m\u001b[0m \u001b[1m0s\u001b[0m 997us/step - loss: 0.4374 - recall_2: 0.9285 - val_loss: 0.4516 - val_recall_2: 0.8852\n",
      "Epoch 78/100\n",
      "\u001b[1m20/20\u001b[0m \u001b[32m━━━━━━━━━━━━━━━━━━━━\u001b[0m\u001b[37m\u001b[0m \u001b[1m0s\u001b[0m 981us/step - loss: 0.4542 - recall_2: 0.9050 - val_loss: 0.4568 - val_recall_2: 0.9180\n",
      "Epoch 79/100\n",
      "\u001b[1m20/20\u001b[0m \u001b[32m━━━━━━━━━━━━━━━━━━━━\u001b[0m\u001b[37m\u001b[0m \u001b[1m0s\u001b[0m 1ms/step - loss: 0.4809 - recall_2: 0.8451 - val_loss: 0.4834 - val_recall_2: 0.9672\n",
      "Epoch 80/100\n",
      "\u001b[1m20/20\u001b[0m \u001b[32m━━━━━━━━━━━━━━━━━━━━\u001b[0m\u001b[37m\u001b[0m \u001b[1m0s\u001b[0m 1ms/step - loss: 0.4312 - recall_2: 0.9430 - val_loss: 0.4604 - val_recall_2: 0.8852\n",
      "Epoch 81/100\n",
      "\u001b[1m20/20\u001b[0m \u001b[32m━━━━━━━━━━━━━━━━━━━━\u001b[0m\u001b[37m\u001b[0m \u001b[1m0s\u001b[0m 1ms/step - loss: 0.4421 - recall_2: 0.8068 - val_loss: 0.4524 - val_recall_2: 0.8689\n",
      "Epoch 82/100\n",
      "\u001b[1m20/20\u001b[0m \u001b[32m━━━━━━━━━━━━━━━━━━━━\u001b[0m\u001b[37m\u001b[0m \u001b[1m0s\u001b[0m 1ms/step - loss: 0.4275 - recall_2: 0.8797 - val_loss: 0.4958 - val_recall_2: 0.9672\n",
      "Epoch 83/100\n",
      "\u001b[1m20/20\u001b[0m \u001b[32m━━━━━━━━━━━━━━━━━━━━\u001b[0m\u001b[37m\u001b[0m \u001b[1m0s\u001b[0m 1ms/step - loss: 0.4326 - recall_2: 0.9327 - val_loss: 0.4656 - val_recall_2: 0.9672\n",
      "Epoch 84/100\n",
      "\u001b[1m20/20\u001b[0m \u001b[32m━━━━━━━━━━━━━━━━━━━━\u001b[0m\u001b[37m\u001b[0m \u001b[1m0s\u001b[0m 1ms/step - loss: 0.4314 - recall_2: 0.8749 - val_loss: 0.5447 - val_recall_2: 0.9836\n",
      "Epoch 85/100\n",
      "\u001b[1m20/20\u001b[0m \u001b[32m━━━━━━━━━━━━━━━━━━━━\u001b[0m\u001b[37m\u001b[0m \u001b[1m0s\u001b[0m 989us/step - loss: 0.4677 - recall_2: 0.9473 - val_loss: 0.4584 - val_recall_2: 0.9508\n",
      "Epoch 86/100\n",
      "\u001b[1m20/20\u001b[0m \u001b[32m━━━━━━━━━━━━━━━━━━━━\u001b[0m\u001b[37m\u001b[0m \u001b[1m0s\u001b[0m 1ms/step - loss: 0.4422 - recall_2: 0.9106 - val_loss: 0.4788 - val_recall_2: 0.9672\n",
      "Epoch 87/100\n",
      "\u001b[1m20/20\u001b[0m \u001b[32m━━━━━━━━━━━━━━━━━━━━\u001b[0m\u001b[37m\u001b[0m \u001b[1m0s\u001b[0m 2ms/step - loss: 0.4665 - recall_2: 0.8898 - val_loss: 0.4784 - val_recall_2: 0.9508\n",
      "Epoch 88/100\n",
      "\u001b[1m20/20\u001b[0m \u001b[32m━━━━━━━━━━━━━━━━━━━━\u001b[0m\u001b[37m\u001b[0m \u001b[1m0s\u001b[0m 1ms/step - loss: 0.4644 - recall_2: 0.8839 - val_loss: 0.4801 - val_recall_2: 0.9016\n",
      "Epoch 89/100\n",
      "\u001b[1m20/20\u001b[0m \u001b[32m━━━━━━━━━━━━━━━━━━━━\u001b[0m\u001b[37m\u001b[0m \u001b[1m0s\u001b[0m 1ms/step - loss: 0.4347 - recall_2: 0.9278 - val_loss: 0.4796 - val_recall_2: 0.7377\n",
      "Epoch 90/100\n",
      "\u001b[1m20/20\u001b[0m \u001b[32m━━━━━━━━━━━━━━━━━━━━\u001b[0m\u001b[37m\u001b[0m \u001b[1m0s\u001b[0m 984us/step - loss: 0.4848 - recall_2: 0.8283 - val_loss: 0.5151 - val_recall_2: 0.9672\n",
      "Epoch 91/100\n",
      "\u001b[1m20/20\u001b[0m \u001b[32m━━━━━━━━━━━━━━━━━━━━\u001b[0m\u001b[37m\u001b[0m \u001b[1m0s\u001b[0m 1ms/step - loss: 0.4731 - recall_2: 0.9012 - val_loss: 0.4617 - val_recall_2: 0.6721\n",
      "Epoch 92/100\n",
      "\u001b[1m20/20\u001b[0m \u001b[32m━━━━━━━━━━━━━━━━━━━━\u001b[0m\u001b[37m\u001b[0m \u001b[1m0s\u001b[0m 1ms/step - loss: 0.4751 - recall_2: 0.7496 - val_loss: 0.4884 - val_recall_2: 0.9672\n",
      "Epoch 93/100\n",
      "\u001b[1m20/20\u001b[0m \u001b[32m━━━━━━━━━━━━━━━━━━━━\u001b[0m\u001b[37m\u001b[0m \u001b[1m0s\u001b[0m 1ms/step - loss: 0.4295 - recall_2: 0.9453 - val_loss: 0.4542 - val_recall_2: 0.8689\n",
      "Epoch 94/100\n",
      "\u001b[1m20/20\u001b[0m \u001b[32m━━━━━━━━━━━━━━━━━━━━\u001b[0m\u001b[37m\u001b[0m \u001b[1m0s\u001b[0m 1ms/step - loss: 0.4463 - recall_2: 0.8140 - val_loss: 0.5221 - val_recall_2: 0.9672\n",
      "Epoch 95/100\n",
      "\u001b[1m20/20\u001b[0m \u001b[32m━━━━━━━━━━━━━━━━━━━━\u001b[0m\u001b[37m\u001b[0m \u001b[1m0s\u001b[0m 1ms/step - loss: 0.4235 - recall_2: 0.9126 - val_loss: 0.4753 - val_recall_2: 0.9672\n",
      "Epoch 96/100\n",
      "\u001b[1m20/20\u001b[0m \u001b[32m━━━━━━━━━━━━━━━━━━━━\u001b[0m\u001b[37m\u001b[0m \u001b[1m0s\u001b[0m 1ms/step - loss: 0.4431 - recall_2: 0.8716 - val_loss: 0.4634 - val_recall_2: 0.9180\n",
      "Epoch 97/100\n",
      "\u001b[1m20/20\u001b[0m \u001b[32m━━━━━━━━━━━━━━━━━━━━\u001b[0m\u001b[37m\u001b[0m \u001b[1m0s\u001b[0m 2ms/step - loss: 0.4343 - recall_2: 0.7991 - val_loss: 0.4642 - val_recall_2: 0.9344\n",
      "Epoch 98/100\n",
      "\u001b[1m20/20\u001b[0m \u001b[32m━━━━━━━━━━━━━━━━━━━━\u001b[0m\u001b[37m\u001b[0m \u001b[1m0s\u001b[0m 999us/step - loss: 0.4499 - recall_2: 0.8966 - val_loss: 0.5224 - val_recall_2: 0.9836\n",
      "Epoch 99/100\n",
      "\u001b[1m20/20\u001b[0m \u001b[32m━━━━━━━━━━━━━━━━━━━━\u001b[0m\u001b[37m\u001b[0m \u001b[1m0s\u001b[0m 1ms/step - loss: 0.4297 - recall_2: 0.8996 - val_loss: 0.4729 - val_recall_2: 0.8033\n",
      "Epoch 100/100\n",
      "\u001b[1m20/20\u001b[0m \u001b[32m━━━━━━━━━━━━━━━━━━━━\u001b[0m\u001b[37m\u001b[0m \u001b[1m0s\u001b[0m 988us/step - loss: 0.4900 - recall_2: 0.8013 - val_loss: 0.4864 - val_recall_2: 0.9672\n"
     ]
    }
   ],
   "source": [
    "modelBest = tuner.hypermodel.build(best_hps)\n",
    "history = modelBest.fit(X_train, y_train, epochs=100, validation_split=0.2)"
   ]
  },
  {
   "cell_type": "markdown",
   "metadata": {},
   "source": [
    "# Testing the Models\n",
    "Now that we have the models ready, we will test them with the train data and with the additional data."
   ]
  },
  {
   "cell_type": "markdown",
   "metadata": {},
   "source": [
    "## Manual Model"
   ]
  },
  {
   "cell_type": "code",
   "execution_count": 15,
   "metadata": {},
   "outputs": [
    {
     "name": "stdout",
     "output_type": "stream",
     "text": [
      "\u001b[1m7/7\u001b[0m \u001b[32m━━━━━━━━━━━━━━━━━━━━\u001b[0m\u001b[37m\u001b[0m \u001b[1m0s\u001b[0m 2ms/step \n",
      "AUC: 0.69\n"
     ]
    }
   ],
   "source": [
    "auc = roc_auc_score(y_test, (model1.predict(X_test) > 0.5).astype(int).flatten())\n",
    "print(\"AUC: {:.2f}\".format(auc))"
   ]
  },
  {
   "cell_type": "code",
   "execution_count": 16,
   "metadata": {},
   "outputs": [
    {
     "name": "stdout",
     "output_type": "stream",
     "text": [
      "\u001b[1m33/33\u001b[0m \u001b[32m━━━━━━━━━━━━━━━━━━━━\u001b[0m\u001b[37m\u001b[0m \u001b[1m0s\u001b[0m 263us/step\n",
      "AUC: 0.76\n"
     ]
    }
   ],
   "source": [
    "auc = roc_auc_score(y2, (model1.predict(inputs) > 0.5).astype(int).flatten())\n",
    "print(\"AUC: {:.2f}\".format(auc))"
   ]
  },
  {
   "cell_type": "code",
   "execution_count": 17,
   "metadata": {},
   "outputs": [
    {
     "name": "stdout",
     "output_type": "stream",
     "text": [
      "\u001b[1m7/7\u001b[0m \u001b[32m━━━━━━━━━━━━━━━━━━━━\u001b[0m\u001b[37m\u001b[0m \u001b[1m0s\u001b[0m 422us/step\n",
      "Accuracy: 0.69\n",
      "[[46 56]\n",
      " [ 6 92]]\n",
      "              precision    recall  f1-score   support\n",
      "\n",
      "           0       0.88      0.45      0.60       102\n",
      "           1       0.62      0.94      0.75        98\n",
      "\n",
      "    accuracy                           0.69       200\n",
      "   macro avg       0.75      0.69      0.67       200\n",
      "weighted avg       0.76      0.69      0.67       200\n",
      "\n"
     ]
    }
   ],
   "source": [
    "TestModelAccuracy(model1,X_test,y_test)"
   ]
  },
  {
   "cell_type": "code",
   "execution_count": 18,
   "metadata": {},
   "outputs": [
    {
     "name": "stdout",
     "output_type": "stream",
     "text": [
      "\u001b[1m33/33\u001b[0m \u001b[32m━━━━━━━━━━━━━━━━━━━━\u001b[0m\u001b[37m\u001b[0m \u001b[1m0s\u001b[0m 404us/step\n",
      "Accuracy: 0.7504854368932039\n",
      "[[304 235]\n",
      " [ 22 469]]\n",
      "              precision    recall  f1-score   support\n",
      "\n",
      "           0       0.93      0.56      0.70       539\n",
      "           1       0.67      0.96      0.78       491\n",
      "\n",
      "    accuracy                           0.75      1030\n",
      "   macro avg       0.80      0.76      0.74      1030\n",
      "weighted avg       0.81      0.75      0.74      1030\n",
      "\n"
     ]
    }
   ],
   "source": [
    "TestModelAccuracy(model1,inputs,y2)"
   ]
  },
  {
   "cell_type": "markdown",
   "metadata": {},
   "source": [
    "## Hyperparameter Model"
   ]
  },
  {
   "cell_type": "code",
   "execution_count": 19,
   "metadata": {},
   "outputs": [
    {
     "name": "stdout",
     "output_type": "stream",
     "text": [
      "\u001b[1m7/7\u001b[0m \u001b[32m━━━━━━━━━━━━━━━━━━━━\u001b[0m\u001b[37m\u001b[0m \u001b[1m0s\u001b[0m 3ms/step \n",
      "AUC: 0.71\n"
     ]
    }
   ],
   "source": [
    "auc = roc_auc_score(y_test, (modelBest.predict(X_test) > 0.5).astype(int).flatten())\n",
    "print(\"AUC: {:.2f}\".format(auc))"
   ]
  },
  {
   "cell_type": "code",
   "execution_count": 20,
   "metadata": {},
   "outputs": [
    {
     "name": "stdout",
     "output_type": "stream",
     "text": [
      "\u001b[1m33/33\u001b[0m \u001b[32m━━━━━━━━━━━━━━━━━━━━\u001b[0m\u001b[37m\u001b[0m \u001b[1m0s\u001b[0m 362us/step\n",
      "AUC: 0.77\n"
     ]
    }
   ],
   "source": [
    "auc = roc_auc_score(y2, (modelBest.predict(inputs) > 0.5).astype(int).flatten())\n",
    "print(\"AUC: {:.2f}\".format(auc))"
   ]
  },
  {
   "cell_type": "code",
   "execution_count": 21,
   "metadata": {},
   "outputs": [
    {
     "name": "stdout",
     "output_type": "stream",
     "text": [
      "\u001b[1m7/7\u001b[0m \u001b[32m━━━━━━━━━━━━━━━━━━━━\u001b[0m\u001b[37m\u001b[0m \u001b[1m0s\u001b[0m 586us/step\n",
      "Accuracy: 0.705\n",
      "[[50 52]\n",
      " [ 7 91]]\n",
      "              precision    recall  f1-score   support\n",
      "\n",
      "           0       0.88      0.49      0.63       102\n",
      "           1       0.64      0.93      0.76        98\n",
      "\n",
      "    accuracy                           0.70       200\n",
      "   macro avg       0.76      0.71      0.69       200\n",
      "weighted avg       0.76      0.70      0.69       200\n",
      "\n"
     ]
    }
   ],
   "source": [
    "TestModelAccuracy(modelBest,X_test,y_test)"
   ]
  },
  {
   "cell_type": "code",
   "execution_count": 22,
   "metadata": {},
   "outputs": [
    {
     "name": "stdout",
     "output_type": "stream",
     "text": [
      "\u001b[1m33/33\u001b[0m \u001b[32m━━━━━━━━━━━━━━━━━━━━\u001b[0m\u001b[37m\u001b[0m \u001b[1m0s\u001b[0m 491us/step\n",
      "Accuracy: 0.7592233009708738\n",
      "[[315 224]\n",
      " [ 24 467]]\n",
      "              precision    recall  f1-score   support\n",
      "\n",
      "           0       0.93      0.58      0.72       539\n",
      "           1       0.68      0.95      0.79       491\n",
      "\n",
      "    accuracy                           0.76      1030\n",
      "   macro avg       0.80      0.77      0.75      1030\n",
      "weighted avg       0.81      0.76      0.75      1030\n",
      "\n"
     ]
    }
   ],
   "source": [
    "TestModelAccuracy(modelBest,inputs,y2)"
   ]
  },
  {
   "cell_type": "markdown",
   "metadata": {},
   "source": [
    "# Finding the Optimal Threshold\n",
    "Finding the optimal threshold for this exercise is about finding the sweet spot in which we maximize the recall for class 1 and class 0, while we try to improve accuracy as much as we can:"
   ]
  },
  {
   "cell_type": "code",
   "execution_count": 23,
   "metadata": {},
   "outputs": [
    {
     "name": "stdout",
     "output_type": "stream",
     "text": [
      "\u001b[1m33/33\u001b[0m \u001b[32m━━━━━━━━━━━━━━━━━━━━\u001b[0m\u001b[37m\u001b[0m \u001b[1m0s\u001b[0m 315us/step\n",
      "Optimal Threshold: 0.6250295042991638\n",
      "Precision at Optimal Threshold: 0.7009345794392523\n",
      "Max Recall at Optimal Threshold: 0.7637474541751528\n"
     ]
    }
   ],
   "source": [
    "optimal_threshold = find_optimal_threshold(modelBest,inputs,y2)"
   ]
  },
  {
   "cell_type": "code",
   "execution_count": 24,
   "metadata": {},
   "outputs": [
    {
     "name": "stdout",
     "output_type": "stream",
     "text": [
      "\u001b[1m33/33\u001b[0m \u001b[32m━━━━━━━━━━━━━━━━━━━━\u001b[0m\u001b[37m\u001b[0m \u001b[1m0s\u001b[0m 281us/step\n"
     ]
    },
    {
     "data": {
      "image/png": "[encoded data removed]",
      "text/plain": [
       "<Figure size 1000x600 with 1 Axes>"
      ]
     },
     "metadata": {},
     "output_type": "display_data"
    }
   ],
   "source": [
    "plot_accuracy_recall_vs_threshold(modelBest, inputs, y2)"
   ]
  },
  {
   "cell_type": "code",
   "execution_count": 25,
   "metadata": {},
   "outputs": [
    {
     "name": "stdout",
     "output_type": "stream",
     "text": [
      "\u001b[1m33/33\u001b[0m \u001b[32m━━━━━━━━━━━━━━━━━━━━\u001b[0m\u001b[37m\u001b[0m \u001b[1m0s\u001b[0m 380us/step\n",
      "Accuracy: 0.7543689320388349\n",
      "              precision    recall  f1-score   support\n",
      "\n",
      "           0       0.86      0.63      0.73       539\n",
      "           1       0.69      0.89      0.78       491\n",
      "\n",
      "    accuracy                           0.75      1030\n",
      "   macro avg       0.77      0.76      0.75      1030\n",
      "weighted avg       0.78      0.75      0.75      1030\n",
      "\n"
     ]
    }
   ],
   "source": [
    "# The best threshold seems to be around 0.55\n",
    "TestModel_Threshold(modelBest, inputs, y2,0.55)"
   ]
  },
  {
   "cell_type": "code",
   "execution_count": 26,
   "metadata": {},
   "outputs": [
    {
     "name": "stdout",
     "output_type": "stream",
     "text": [
      "\u001b[1m33/33\u001b[0m \u001b[32m━━━━━━━━━━━━━━━━━━━━\u001b[0m\u001b[37m\u001b[0m \u001b[1m0s\u001b[0m 303us/step\n",
      "Accuracy: 0.7320388349514563\n",
      "              precision    recall  f1-score   support\n",
      "\n",
      "           0       0.77      0.70      0.73       539\n",
      "           1       0.70      0.76      0.73       491\n",
      "\n",
      "    accuracy                           0.73      1030\n",
      "   macro avg       0.73      0.73      0.73      1030\n",
      "weighted avg       0.73      0.73      0.73      1030\n",
      "\n"
     ]
    }
   ],
   "source": [
    "# The optimal threshold that comes from the function\n",
    "TestModel_Threshold(modelBest,inputs, y2,optimal_threshold)"
   ]
  },
  {
   "cell_type": "markdown",
   "metadata": {},
   "source": [
    "# Conclusions\n",
    "This analysis demonstrates the effectiveness of neural networks in predicting obesity levels based on eating habits and physical conditions. The best-performing neural network model achieved an accuracy of 0.69 on the training data (`data_ready.csv`) and 0.75 on the additional test data (`test_later.csv`), indicating a reasonable generalization to new data.\n",
    "\n",
    "### Key Findings:\n",
    "1. **Recall for Identifying Obesity**: The model showed a strong recall score of 0.94 on the training set and 0.96 on the test set for the class identifying obesity. This reflects the model's high effectiveness in correctly identifying individuals with obesity, which is crucial for early intervention and treatment.\n",
    "\n",
    "2. **Optimal Threshold**: The model's performance is balanced and achieves a better generalization at a threshold of around 0.61, however we have favored the class 1 by setting it at 0.55 for the Streamlit App.\n",
    "  \n",
    "3. **Model Performance**: Despite the high recall, the overall accuracy was moderate, indicating potential room for improvement in terms of precision and reducing false positives. The confusion matrix analysis reveals that while the model is adept at identifying true cases of obesity, there are still challenges in accurately predicting non-obese individuals.\n",
    "  \n",
    "4. **Feature Impact**: The neural network models' performance underscores the importance of feature selection and preprocessing. The exclusion of certain features like 'gender' and 'Weight' was aimed at enhancing model performance and reducing collinearity, which appears to have been effective.\n",
    "\n",
    "### Future Work:\n",
    "- **Hyperparameter Tuning**: Further tuning of the hyperparameters and exploring different architectures of neural networks could lead to improved performance.\n",
    "- **Feature Engineering**: Additional feature engineering and the inclusion of more relevant features could help in boosting model accuracy.\n",
    "- **Ensemble Methods**: Combining neural networks with other models, such as Random Forests, might offer enhanced predictive power through ensemble methods.\n",
    "\n",
    "The results of this study affirm the potential of neural networks in medical and health-related predictive analytics, specifically in the area of obesity risk prediction. The strong recall scores are particularly promising for practical applications where correctly identifying cases of obesity is of paramount importance."
   ]
  },
  {
   "cell_type": "code",
   "execution_count": null,
   "metadata": {},
   "outputs": [],
   "source": []
  }
 ],
 "metadata": {
  "kaggle": {
   "accelerator": "none",
   "dataSources": [
    {
     "datasetId": 5493607,
     "sourceId": 9102667,
     "sourceType": "datasetVersion"
    }
   ],
   "dockerImageVersionId": 30746,
   "isGpuEnabled": false,
   "isInternetEnabled": true,
   "language": "python",
   "sourceType": "notebook"
  },
  "kernelspec": {
   "display_name": "Python 3 (ipykernel)",
   "language": "python",
   "name": "python3"
  },
  "language_info": {
   "codemirror_mode": {
    "name": "ipython",
    "version": 3
   },
   "file_extension": ".py",
   "mimetype": "text/x-python",
   "name": "python",
   "nbconvert_exporter": "python",
   "pygments_lexer": "ipython3",
   "version": "3.12.4"
  }
 },
 "nbformat": 4,
 "nbformat_minor": 4
}
